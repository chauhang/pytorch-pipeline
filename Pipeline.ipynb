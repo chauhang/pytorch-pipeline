{
 "cells": [
  {
   "cell_type": "markdown",
   "metadata": {},
   "source": [
    "# Load packages"
   ]
  },
  {
   "cell_type": "code",
   "execution_count": 159,
   "metadata": {},
   "outputs": [],
   "source": [
    "import kfp\n",
    "from kfp import components\n",
    "from kfp.components import load_component_from_file, load_component_from_url\n",
    "from kfp import dsl\n",
    "from kfp import compiler"
   ]
  },
  {
   "cell_type": "markdown",
   "metadata": {},
   "source": [
    "# Enter your gateway loadbalancer and the token from the cookie\n",
    "[Use this extension on chrome to get token]( https://chrome.google.com/webstore/detail/editthiscookie/fngmhnnpilhplaeedifhccceomclgfbg?hl=en)\n",
    "\n",
    "![image.png](./image.png)"
   ]
  },
  {
   "cell_type": "code",
   "execution_count": 160,
   "metadata": {},
   "outputs": [],
   "source": [
    "#Update values for the load balancer and auth session\n",
    "URL='<your-load-balancer-url>'\n",
    "AUTH=\"authservice_session=<Key>\"\n",
    "namespace=\"admin\""
   ]
  },
  {
   "cell_type": "code",
   "execution_count": 161,
   "metadata": {},
   "outputs": [
    {
     "data": {
      "text/plain": [
       "{'created_at': datetime.datetime(2021, 4, 22, 11, 1, 18, tzinfo=tzlocal()),\n",
       " 'description': None,\n",
       " 'id': '1ff11bc4-a6b3-4dd1-8874-2c8cfccca04c',\n",
       " 'name': 'Default',\n",
       " 'resource_references': [{'key': {'id': 'admin', 'type': 'NAMESPACE'},\n",
       "                          'name': None,\n",
       "                          'relationship': 'OWNER'}],\n",
       " 'storage_state': 'STORAGESTATE_AVAILABLE'}"
      ]
     },
     "execution_count": 161,
     "metadata": {},
     "output_type": "execute_result"
    }
   ],
   "source": [
    "client = kfp.Client(host=URL+\"/pipeline\", cookies=AUTH)\n",
    "experiments = client.list_experiments(namespace=namespace)\n",
    "my_experiment = experiments.experiments[0]\n",
    "my_experiment"
   ]
  },
  {
   "cell_type": "markdown",
   "metadata": {},
   "source": [
    "### Using dsl for model archiver and torchserve integration\n",
    "#### Init container is used for mar file generation"
   ]
  },
  {
   "cell_type": "code",
   "execution_count": 151,
   "metadata": {},
   "outputs": [],
   "source": [
    "VOLUME_NAME = \"pvcmaad\"\n",
    "DEPLOY=\"bert-testt\"\n",
    "MODEL=\"bert\""
   ]
  },
  {
   "cell_type": "code",
   "execution_count": 152,
   "metadata": {},
   "outputs": [],
   "source": [
    "bert_data_prep_op = components.load_component_from_file(\n",
    "    \"./pytorch/data_prep/component.yaml\"\n",
    ")\n",
    "\n",
    "bert_train_op = components.load_component_from_file(\n",
    "    \"./pytorch/train/component.yaml\"\n",
    ")\n",
    "\n",
    "mar_op = load_component_from_file(\"./model_archive/component.yaml\")\n",
    "deploy_op = load_component_from_file(\"./deploy/component.yaml\")\n",
    "\n",
    "@dsl.pipeline(name=\"Training pipeline\", description=\"Sample training job test\")\n",
    "def pytorch_bert():\n",
    "\n",
    "\n",
    "    vop = dsl.VolumeOp(\n",
    "        name=VOLUME_NAME,\n",
    "        resource_name=VOLUME_NAME,\n",
    "        modes=dsl.VOLUME_MODE_RWO,\n",
    "        size=\"20Gi\"\n",
    "    )\n",
    "\n",
    "    @dsl.component\n",
    "    def download(url: str, output_path:str):\n",
    "        return dsl.ContainerOp(\n",
    "            name='Download',\n",
    "            image='busybox:latest',\n",
    "            command=[\"sh\", \"-c\"],\n",
    "            arguments=[\"mkdir -p %s; wget %s -P %s\" % (output_path, url, output_path)],\n",
    "        )\n",
    "\n",
    "    @dsl.component\n",
    "    def copy_contents(input_dir: str, output_dir:str):\n",
    "        return dsl.ContainerOp(\n",
    "            name='Copy',\n",
    "            image='busybox:latest',\n",
    "            command=[\"cp\", \"-R\", \"%s/.\" % input_dir, \"%s\" % output_dir],            \n",
    "        )\n",
    "\n",
    "    @dsl.component\n",
    "    def mkdir(input_dir: str):\n",
    "        return dsl.ContainerOp(\n",
    "            name='mkdir',\n",
    "            image='busybox:latest',\n",
    "            command=[\"mkdir\", \"-p\", \"%s\" % input_dir],            \n",
    "        )\n",
    "\n",
    "    @dsl.component\n",
    "    def ls(input_dir: str):\n",
    "        return dsl.ContainerOp(\n",
    "            name='list',\n",
    "            image='busybox:latest',\n",
    "            command=[\"ls\", \"-R\", \"%s\" % input_dir]\n",
    "        )\n",
    "\n",
    "    prep_output = bert_data_prep_op(\n",
    "        input_data =\n",
    "            [{\"dataset_url\":\"https://kubeflow-dataset.s3.us-east-2.amazonaws.com/ag_news_csv.tar.gz\"}],\n",
    "        container_entrypoint = [\n",
    "            \"python\",\n",
    "            \"/pvc/input/bert_pre_process.py\",\n",
    "        ],\n",
    "        output_data = [\"/pvc/output/processing\"],\n",
    "        source_code = [\"https://kubeflow-dataset.s3.us-east-2.amazonaws.com/bert_pre_process.py\"],\n",
    "        source_code_path = [\"/pvc/input\"]\n",
    "    ).add_pvolumes({\"/pvc\":vop.volume})\n",
    "\n",
    "    train_output = bert_train_op(\n",
    "        input_data = [\"/pvc/output/processing\"],\n",
    "        container_entrypoint = [\n",
    "            \"python\",\n",
    "            \"/pvc/input/bert_train.py\",\n",
    "        ],\n",
    "        output_data = [\"/pvc/output/train/models\"],\n",
    "        input_parameters = [{\"tensorboard_root\": \"/pvc/output/train/tensorboard\", \n",
    "        \"max_epochs\": 1, \"num_samples\": 1000, \"batch_size\": 4, \"num_workers\": 1, \"learning_rate\": 0.001, \n",
    "        \"accelerator\": None}],\n",
    "        source_code = [\"https://kubeflow-dataset.s3.us-east-2.amazonaws.com/bert_datamodule.py\", \"https://kubeflow-dataset.s3.us-east-2.amazonaws.com/bert_train.py\"],\n",
    "        source_code_path = [\"/pvc/input\"]\n",
    "    ).add_pvolumes({\"/pvc\":vop.volume}).after(prep_output)\n",
    "\n",
    "    list_input = ls(\"/pvc/output\").add_pvolumes({\"/pvc\":vop.volume}).after(train_output)\n",
    "\n",
    "    properties = download(url='https://kubeflow-dataset.s3.us-east-2.amazonaws.com/model_archive/bert/properties.json', output_path=\"/pv/input\").add_pvolumes({\"/pv\":vop.volume}).after(vop)\n",
    "    requirements = download(url='https://kubeflow-dataset.s3.us-east-2.amazonaws.com/model_archive/bert/requirements.txt', output_path=\"/pv/input\").add_pvolumes({\"/pv\":vop.volume}).after(vop)\n",
    "    extrafile = download(url='https://kubeflow-dataset.s3.us-east-2.amazonaws.com/model_archive/bert/index_to_name.json', output_path=\"/pv/input\").add_pvolumes({\"/pv\":vop.volume}).after(vop)\n",
    "    extrafile = download(url='https://kubeflow-dataset.s3.us-east-2.amazonaws.com/model_archive/bert/wrapper.py', output_path=\"/pv/input\").add_pvolumes({\"/pv\":vop.volume}).after(vop)\n",
    "    vocabfile = download(url='https://kubeflow-dataset.s3.us-east-2.amazonaws.com/model_archive/bert/bert-base-uncased-vocab.txt', output_path=\"/pv/input\").add_pvolumes({\"/pv\":vop.volume}).after(vop)\n",
    "    handlerfile = download(url='https://kubeflow-dataset.s3.us-east-2.amazonaws.com/model_archive/bert/bert_handler.py', output_path=\"/pv/input\").add_pvolumes({\"/pv\":vop.volume}).after(vop)\n",
    "\n",
    "    copy_files = copy_contents(input_dir=\"/pvc/output/train/models\", output_dir=\"/pvc/input\").add_pvolumes({\"/pvc\":vop.volume}).after(train_output)\n",
    "    list_input = ls(\"/pvc/input\").add_pvolumes({\"/pvc\":vop.volume}).after(copy_files)\n",
    "\n",
    "    mar_task = mar_op(\n",
    "        input_dir=\"/pvc/input\",\n",
    "        output_dir=\"/pvc/output\",\n",
    "        handlerfile=\"image_classifier\").add_pvolumes({\"/pvc\":vop.volume}).after(list_input)\n",
    "\n",
    "    list_output = ls(\"/pvc/output\").add_pvolumes({\"/pvc\":vop.volume}).after(mar_task)\n",
    "\n",
    "    model_uri= \"pvc://{{workflow.name}}-\"+VOLUME_NAME+\"/output\"\n",
    "    isvc_yaml = '''\n",
    "    apiVersion: \"serving.kubeflow.org/v1beta1\"\n",
    "    kind: \"InferenceService\"\n",
    "    metadata:\n",
    "      name: {}\n",
    "      namespace: {}\n",
    "    spec:\n",
    "      predictor:\n",
    "        pytorch:\n",
    "          storageUri: {}\n",
    "          resources:\n",
    "            limits:\n",
    "              memory: 4Gi   \n",
    "    '''.format(DEPLOY, namespace, model_uri)\n",
    "    deploy_task = deploy_op(\n",
    "        action='apply',\n",
    "        inferenceservice_yaml=isvc_yaml\n",
    "    ).add_pvolumes({\"/pvc\":vop.volume}).after(list_output)"
   ]
  },
  {
   "cell_type": "code",
   "execution_count": 153,
   "metadata": {},
   "outputs": [],
   "source": [
    "# Compile pipeline\n",
    "compiler.Compiler().compile(pytorch_bert, 'pytorch.tar.gz', type_check=True)"
   ]
  },
  {
   "cell_type": "code",
   "execution_count": 154,
   "metadata": {},
   "outputs": [
    {
     "data": {
      "text/html": [
       "<a href=\"http://a6cbacea2ae994ca4b8773a7efb86526-960991965.us-west-2.elb.amazonaws.com//pipeline/#/runs/details/9c7dd7e6-11a1-4cd9-a7d0-5a6715f2c9ac\" target=\"_blank\" >Run details</a>."
      ],
      "text/plain": [
       "<IPython.core.display.HTML object>"
      ]
     },
     "metadata": {},
     "output_type": "display_data"
    }
   ],
   "source": [
    "# Execute pipeline\n",
    "run = client.run_pipeline(my_experiment.id, 'pytorch-bert', 'pytorch.tar.gz')"
   ]
  },
  {
   "cell_type": "markdown",
   "metadata": {},
   "source": [
    "### Wait for inference service below to go to `READY True` state."
   ]
  },
  {
   "cell_type": "code",
   "execution_count": 155,
   "metadata": {},
   "outputs": [
    {
     "name": "stdout",
     "output_type": "stream",
     "text": [
      "Error from server (NotFound): inferenceservices.serving.kubeflow.org \"bert-testt\" not found\r\n"
     ]
    }
   ],
   "source": [
    "!kubectl get isvc $DEPLOY"
   ]
  },
  {
   "cell_type": "markdown",
   "metadata": {},
   "source": [
    "# Inference"
   ]
  },
  {
   "cell_type": "code",
   "execution_count": 12,
   "metadata": {},
   "outputs": [
    {
     "data": {
      "text/plain": [
       "'bert-agnc.admin.example.com'"
      ]
     },
     "execution_count": 12,
     "metadata": {},
     "output_type": "execute_result"
    }
   ],
   "source": [
    "# S_HOSTNAME=!kubectl get isvc $DEPLOY  -o jsonpath='{.items[0].status.url}' | cut -d \"/\" -f 3\n",
    "# SERVICE_HOSTNAME=S_HOSTNAME[0]\n",
    "# SERVICE_HOSTNAME"
   ]
  },
  {
   "cell_type": "markdown",
   "metadata": {},
   "source": [
    "# Prediction"
   ]
  },
  {
   "cell_type": "code",
   "execution_count": 18,
   "metadata": {},
   "outputs": [
    {
     "name": "stdout",
     "output_type": "stream",
     "text": [
      "{\r\n",
      "  \"instances\": [\r\n",
      "    {\r\n",
      "      \"data\": \"Bloomberg has reported the economy\"\r\n",
      "    }\r\n",
      "  ]\r\n",
      "}"
     ]
    }
   ],
   "source": [
    "!cat sample.text"
   ]
  },
  {
   "cell_type": "code",
   "execution_count": 162,
   "metadata": {},
   "outputs": [
    {
     "name": "stdout",
     "output_type": "stream",
     "text": [
      "*   Trying 34.212.253.76...\n",
      "* TCP_NODELAY set\n",
      "* Connected to a6cbacea2ae994ca4b8773a7efb86526-960991965.us-west-2.elb.amazonaws.com (34.212.253.76) port 80 (#0)\n",
      "> POST /v1/models/bert:predict HTTP/1.1\n",
      "> Host: bert-testt.admin.example.com\n",
      "> User-Agent: curl/7.58.0\n",
      "> Accept: */*\n",
      "> Cookie: authservice_session=MTYxOTA5MjMwM3xOd3dBTkRKQlNsaFNWRmMyU1RaWFNUUlFVVXhCV0ZKQlYxTkNRMHBJUWxwTFQxcEVXbFJPVDBsV1JWUkpSRmMzVFZwV1N6UktWRUU9fP5T5N7_YeUMuxJJc3MkKctnvKBzFTQNLqOzms8E109d\n",
      "> Content-Length: 81\n",
      "> Content-Type: application/x-www-form-urlencoded\n",
      "> \n",
      "* upload completely sent off: 81 out of 81 bytes\n",
      "< HTTP/1.1 200 OK\n",
      "< content-length: 33\n",
      "< content-type: application/json; charset=UTF-8\n",
      "< date: Fri, 23 Apr 2021 09:07:02 GMT\n",
      "< server: istio-envoy\n",
      "< x-envoy-upstream-service-time: 5244\n",
      "< \n",
      "* Connection #0 to host a6cbacea2ae994ca4b8773a7efb86526-960991965.us-west-2.elb.amazonaws.com left intact\n",
      "{\"predictions\": [\"\\\"Sci/Tech\\\"\"]}"
     ]
    }
   ],
   "source": [
    "!curl -v -H \"Host: bert-testt.admin.example.com\" -H \"Cookie: $AUTH\" \"$URL/v1/models/bert:predict\" -d @./sample.text"
   ]
  },
  {
   "cell_type": "markdown",
   "metadata": {},
   "source": [
    "##### Explain request with Captum Insights Image"
   ]
  },
  {
   "cell_type": "code",
   "execution_count": 167,
   "metadata": {},
   "outputs": [
    {
     "name": "stdout",
     "output_type": "stream",
     "text": [
      "  % Total    % Received % Xferd  Average Speed   Time    Time     Time  Current\n",
      "                                 Dload  Upload   Total   Spent    Left  Speed\n",
      "  0     0    0     0    0     0      0      0 --:--:-- --:--:-- --:--:--     0*   Trying 34.212.253.76...\n",
      "* TCP_NODELAY set\n",
      "* Connected to a6cbacea2ae994ca4b8773a7efb86526-960991965.us-west-2.elb.amazonaws.com (34.212.253.76) port 80 (#0)\n",
      "> POST /v1/models/bert:explain HTTP/1.1\n",
      "> Host: bert-testt.admin.example.com\n",
      "> User-Agent: curl/7.58.0\n",
      "> Accept: */*\n",
      "> Cookie: authservice_session=MTYxOTA5MjMwM3xOd3dBTkRKQlNsaFNWRmMyU1RaWFNUUlFVVXhCV0ZKQlYxTkNRMHBJUWxwTFQxcEVXbFJPVDBsV1JWUkpSRmMzVFZwV1N6UktWRUU9fP5T5N7_YeUMuxJJc3MkKctnvKBzFTQNLqOzms8E109d\n",
      "> Content-Length: 81\n",
      "> Content-Type: application/x-www-form-urlencoded\n",
      "> \n",
      "} [81 bytes data]\n",
      "* upload completely sent off: 81 out of 81 bytes\n",
      "100    81    0     0  100    81      0      3  0:00:27  0:00:25  0:00:02     0< HTTP/1.1 200 OK\n",
      "< content-length: 296\n",
      "< content-type: application/json; charset=UTF-8\n",
      "< date: Fri, 23 Apr 2021 09:12:25 GMT\n",
      "< server: istio-envoy\n",
      "< x-envoy-upstream-service-time: 25844\n",
      "< \n",
      "{ [296 bytes data]\n",
      "100   377  100   296  100    81     11      3  0:00:27  0:00:25  0:00:02    81\n",
      "* Connection #0 to host a6cbacea2ae994ca4b8773a7efb86526-960991965.us-west-2.elb.amazonaws.com left intact\n"
     ]
    }
   ],
   "source": [
    "!curl -v -H \"Host: bert-testt.admin.example.com\" -H \"Cookie: $AUTH\" \"$URL/v1/models/bert:explain\" -d @./sample.text > output.json"
   ]
  },
  {
   "cell_type": "markdown",
   "metadata": {},
   "source": [
    "##### Lets read the output json created by the above step for visulization purpose"
   ]
  },
  {
   "cell_type": "code",
   "execution_count": 20,
   "metadata": {},
   "outputs": [],
   "source": [
    "import json\n",
    "explanations_json = json.loads(open(\"./output.json\", \"r\").read())"
   ]
  },
  {
   "cell_type": "code",
   "execution_count": 21,
   "metadata": {},
   "outputs": [
    {
     "data": {
      "text/plain": [
       "{'explanations': [{'words': ['[CLS]',\n",
       "    'bloomberg',\n",
       "    'has',\n",
       "    'reported',\n",
       "    'the',\n",
       "    'economy',\n",
       "    '[SEP]'],\n",
       "   'importances': [0.41797560190204697,\n",
       "    0.1503530580737833,\n",
       "    -0.1913129613875043,\n",
       "    0.005988620683665899,\n",
       "    -0.16190090540645485,\n",
       "    0.5718536465796493,\n",
       "    -0.642514859821982],\n",
       "   'delta': 0.10401920533973452}]}"
      ]
     },
     "execution_count": 21,
     "metadata": {},
     "output_type": "execute_result"
    }
   ],
   "source": [
    "explanations_json"
   ]
  },
  {
   "cell_type": "code",
   "execution_count": 33,
   "metadata": {},
   "outputs": [],
   "source": [
    "import torch\n",
    "attributions = explanations_json[\"explanations\"][0]['importances']\n",
    "tokens = explanations_json[\"explanations\"][0]['words']\n",
    "delta = explanations_json[\"explanations\"][0]['delta']\n",
    "\n",
    "attributions = torch.tensor(attributions)\n",
    "pred_prob = 0.75\n",
    "pred_class = 3\n",
    "true_class = 2\n",
    "attr_class =1"
   ]
  },
  {
   "cell_type": "code",
   "execution_count": 36,
   "metadata": {},
   "outputs": [],
   "source": [
    "from captum.attr import visualization\n",
    "vis_data_records =[]\n",
    "vis_data_records.append(visualization.VisualizationDataRecord(\n",
    "                            attributions,\n",
    "                            pred_prob,\n",
    "                            pred_class,\n",
    "                            true_class,\n",
    "                            attr_class,\n",
    "                            attributions.sum(),       \n",
    "                            tokens,\n",
    "                            delta))\n"
   ]
  },
  {
   "cell_type": "code",
   "execution_count": 37,
   "metadata": {},
   "outputs": [
    {
     "data": {
      "text/html": [
       "<table width: 100%><div style=\"border-top: 1px solid; margin-top: 5px;             padding-top: 5px; display: inline-block\"><b>Legend: </b><span style=\"display: inline-block; width: 10px; height: 10px;                 border: 1px solid; background-color:                 hsl(0, 75%, 60%)\"></span> Negative  <span style=\"display: inline-block; width: 10px; height: 10px;                 border: 1px solid; background-color:                 hsl(0, 75%, 100%)\"></span> Neutral  <span style=\"display: inline-block; width: 10px; height: 10px;                 border: 1px solid; background-color:                 hsl(120, 75%, 50%)\"></span> Positive  </div><tr><th>True Label</th><th>Predicted Label</th><th>Attribution Label</th><th>Attribution Score</th><th>Word Importance</th><tr><td><text style=\"padding-right:2em\"><b>2</b></text></td><td><text style=\"padding-right:2em\"><b>3 (0.75)</b></text></td><td><text style=\"padding-right:2em\"><b>1</b></text></td><td><text style=\"padding-right:2em\"><b>0.15</b></text></td><td><mark style=\"background-color: hsl(120, 75%, 80%); opacity:1.0;                     line-height:1.75\"><font color=\"black\"> [CLS]                    </font></mark><mark style=\"background-color: hsl(120, 75%, 93%); opacity:1.0;                     line-height:1.75\"><font color=\"black\"> bloomberg                    </font></mark><mark style=\"background-color: hsl(0, 75%, 93%); opacity:1.0;                     line-height:1.75\"><font color=\"black\"> has                    </font></mark><mark style=\"background-color: hsl(120, 75%, 100%); opacity:1.0;                     line-height:1.75\"><font color=\"black\"> reported                    </font></mark><mark style=\"background-color: hsl(0, 75%, 94%); opacity:1.0;                     line-height:1.75\"><font color=\"black\"> the                    </font></mark><mark style=\"background-color: hsl(120, 75%, 72%); opacity:1.0;                     line-height:1.75\"><font color=\"black\"> economy                    </font></mark><mark style=\"background-color: hsl(0, 75%, 75%); opacity:1.0;                     line-height:1.75\"><font color=\"black\"> [SEP]                    </font></mark></td><tr></table>"
      ],
      "text/plain": [
       "<IPython.core.display.HTML object>"
      ]
     },
     "metadata": {},
     "output_type": "display_data"
    },
    {
     "data": {
      "text/html": [
       "<table width: 100%><div style=\"border-top: 1px solid; margin-top: 5px;             padding-top: 5px; display: inline-block\"><b>Legend: </b><span style=\"display: inline-block; width: 10px; height: 10px;                 border: 1px solid; background-color:                 hsl(0, 75%, 60%)\"></span> Negative  <span style=\"display: inline-block; width: 10px; height: 10px;                 border: 1px solid; background-color:                 hsl(0, 75%, 100%)\"></span> Neutral  <span style=\"display: inline-block; width: 10px; height: 10px;                 border: 1px solid; background-color:                 hsl(120, 75%, 50%)\"></span> Positive  </div><tr><th>True Label</th><th>Predicted Label</th><th>Attribution Label</th><th>Attribution Score</th><th>Word Importance</th><tr><td><text style=\"padding-right:2em\"><b>2</b></text></td><td><text style=\"padding-right:2em\"><b>3 (0.75)</b></text></td><td><text style=\"padding-right:2em\"><b>1</b></text></td><td><text style=\"padding-right:2em\"><b>0.15</b></text></td><td><mark style=\"background-color: hsl(120, 75%, 80%); opacity:1.0;                     line-height:1.75\"><font color=\"black\"> [CLS]                    </font></mark><mark style=\"background-color: hsl(120, 75%, 93%); opacity:1.0;                     line-height:1.75\"><font color=\"black\"> bloomberg                    </font></mark><mark style=\"background-color: hsl(0, 75%, 93%); opacity:1.0;                     line-height:1.75\"><font color=\"black\"> has                    </font></mark><mark style=\"background-color: hsl(120, 75%, 100%); opacity:1.0;                     line-height:1.75\"><font color=\"black\"> reported                    </font></mark><mark style=\"background-color: hsl(0, 75%, 94%); opacity:1.0;                     line-height:1.75\"><font color=\"black\"> the                    </font></mark><mark style=\"background-color: hsl(120, 75%, 72%); opacity:1.0;                     line-height:1.75\"><font color=\"black\"> economy                    </font></mark><mark style=\"background-color: hsl(0, 75%, 75%); opacity:1.0;                     line-height:1.75\"><font color=\"black\"> [SEP]                    </font></mark></td><tr></table>"
      ],
      "text/plain": [
       "<IPython.core.display.HTML object>"
      ]
     },
     "execution_count": 37,
     "metadata": {},
     "output_type": "execute_result"
    }
   ],
   "source": [
    "visualization.visualize_text(vis_data_records)"
   ]
  },
  {
   "cell_type": "code",
   "execution_count": 39,
   "metadata": {},
   "outputs": [
    {
     "data": {
      "image/png": "[encoded data removed]",
      "text/plain": [
       "<IPython.core.display.Image object>"
      ]
     },
     "execution_count": 39,
     "metadata": {},
     "output_type": "execute_result"
    }
   ],
   "source": [
    "import IPython.display\n",
    "IPython.display.Image(filename=\"Bert_KFS_Captum_Insights.png\")\n"
   ]
  }
 ],
 "metadata": {
  "kernelspec": {
   "display_name": "Python 3",
   "language": "python",
   "name": "python3"
  },
  "language_info": {
   "codemirror_mode": {
    "name": "ipython",
    "version": 3
   },
   "file_extension": ".py",
   "mimetype": "text/x-python",
   "name": "python",
   "nbconvert_exporter": "python",
   "pygments_lexer": "ipython3",
   "version": "3.8.5"
  }
 },
 "nbformat": 4,
 "nbformat_minor": 4
}
