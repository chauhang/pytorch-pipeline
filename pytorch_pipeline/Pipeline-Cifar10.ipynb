{
 "cells": [
  {
   "cell_type": "markdown",
   "metadata": {},
   "source": [
    "# Load packages"
   ]
  },
  {
   "cell_type": "code",
   "execution_count": 2,
   "metadata": {},
   "outputs": [
    {
     "name": "stdout",
     "output_type": "stream",
     "text": [
      "Collecting git+https://github.com/kubeflow/pipelines.git#subdirectory=sdk/python\n",
      "  Cloning https://github.com/kubeflow/pipelines.git to /tmp/pip-req-build-5ylhofi9\n",
      "  Running command git clone -q https://github.com/kubeflow/pipelines.git /tmp/pip-req-build-5ylhofi9\n",
      "Collecting absl-py<=0.11,>=0.9\n",
      "  Using cached absl_py-0.11.0-py3-none-any.whl (127 kB)\n",
      "Requirement already satisfied: PyYAML<6,>=5.3 in /opt/conda/lib/python3.9/site-packages (from kfp==1.6.0rc0) (5.4.1)\n",
      "Collecting google-cloud-storage<2,>=1.13.0\n",
      "  Using cached google_cloud_storage-1.38.0-py2.py3-none-any.whl (103 kB)\n",
      "Collecting kubernetes<13,>=8.0.0\n",
      "  Using cached kubernetes-12.0.1-py2.py3-none-any.whl (1.7 MB)\n",
      "Requirement already satisfied: google-auth<2,>=1.6.1 in /opt/conda/lib/python3.9/site-packages (from kfp==1.6.0rc0) (1.30.0)\n",
      "Collecting requests-toolbelt<1,>=0.8.0\n",
      "  Using cached requests_toolbelt-0.9.1-py2.py3-none-any.whl (54 kB)\n",
      "Requirement already satisfied: cloudpickle<2,>=1.3.0 in /opt/conda/lib/python3.9/site-packages (from kfp==1.6.0rc0) (1.6.0)\n",
      "Collecting kfp-server-api<2.0.0,>=1.1.2\n",
      "  Using cached kfp_server_api-1.5.0-py3-none-any.whl\n",
      "Requirement already satisfied: jsonschema<4,>=3.0.1 in /opt/conda/lib/python3.9/site-packages (from kfp==1.6.0rc0) (3.2.0)\n",
      "Collecting tabulate<1,>=0.8.6\n",
      "  Using cached tabulate-0.8.9-py3-none-any.whl (25 kB)\n",
      "Requirement already satisfied: click<8,>=7.1.1 in /opt/conda/lib/python3.9/site-packages (from kfp==1.6.0rc0) (7.1.2)\n",
      "Collecting Deprecated<2,>=1.2.7\n",
      "  Using cached Deprecated-1.2.12-py2.py3-none-any.whl (9.5 kB)\n",
      "Collecting strip-hints<1,>=0.1.8\n",
      "  Using cached strip_hints-0.1.9-py2.py3-none-any.whl\n",
      "Collecting docstring-parser<1,>=0.7.3\n",
      "  Using cached docstring_parser-0.7.3-py3-none-any.whl\n",
      "Collecting kfp-pipeline-spec<0.2.0,>=0.1.7\n",
      "  Using cached kfp_pipeline_spec-0.1.7-py3-none-any.whl (27 kB)\n",
      "Collecting fire<1,>=0.3.1\n",
      "  Using cached fire-0.4.0-py2.py3-none-any.whl\n",
      "Requirement already satisfied: protobuf<4,>=3.13.0 in /opt/conda/lib/python3.9/site-packages (from kfp==1.6.0rc0) (3.15.8)\n",
      "Requirement already satisfied: six in /opt/conda/lib/python3.9/site-packages (from absl-py<=0.11,>=0.9->kfp==1.6.0rc0) (1.16.0)\n",
      "Requirement already satisfied: wrapt<2,>=1.10 in /opt/conda/lib/python3.9/site-packages (from Deprecated<2,>=1.2.7->kfp==1.6.0rc0) (1.12.1)\n",
      "Requirement already satisfied: termcolor in /opt/conda/lib/python3.9/site-packages (from fire<1,>=0.3.1->kfp==1.6.0rc0) (1.1.0)\n",
      "Requirement already satisfied: setuptools>=40.3.0 in /opt/conda/lib/python3.9/site-packages (from google-auth<2,>=1.6.1->kfp==1.6.0rc0) (49.6.0.post20210108)\n",
      "Requirement already satisfied: cachetools<5.0,>=2.0.0 in /opt/conda/lib/python3.9/site-packages (from google-auth<2,>=1.6.1->kfp==1.6.0rc0) (4.2.2)\n",
      "Requirement already satisfied: pyasn1-modules>=0.2.1 in /opt/conda/lib/python3.9/site-packages (from google-auth<2,>=1.6.1->kfp==1.6.0rc0) (0.2.7)\n",
      "Requirement already satisfied: rsa<5,>=3.1.4 in /opt/conda/lib/python3.9/site-packages (from google-auth<2,>=1.6.1->kfp==1.6.0rc0) (4.7.2)\n",
      "Collecting google-cloud-core<2.0dev,>=1.4.1\n",
      "  Using cached google_cloud_core-1.6.0-py2.py3-none-any.whl (28 kB)\n",
      "Requirement already satisfied: requests<3.0.0dev,>=2.18.0 in /opt/conda/lib/python3.9/site-packages (from google-cloud-storage<2,>=1.13.0->kfp==1.6.0rc0) (2.25.1)\n",
      "Collecting google-resumable-media<2.0dev,>=1.2.0\n",
      "  Using cached google_resumable_media-1.2.0-py2.py3-none-any.whl (75 kB)\n",
      "Collecting google-api-core<2.0.0dev,>=1.21.0\n",
      "  Using cached google_api_core-1.26.3-py2.py3-none-any.whl (93 kB)\n",
      "Requirement already satisfied: packaging>=14.3 in /opt/conda/lib/python3.9/site-packages (from google-api-core<2.0.0dev,>=1.21.0->google-cloud-core<2.0dev,>=1.4.1->google-cloud-storage<2,>=1.13.0->kfp==1.6.0rc0) (20.9)\n",
      "Requirement already satisfied: pytz in /opt/conda/lib/python3.9/site-packages (from google-api-core<2.0.0dev,>=1.21.0->google-cloud-core<2.0dev,>=1.4.1->google-cloud-storage<2,>=1.13.0->kfp==1.6.0rc0) (2021.1)\n",
      "Collecting googleapis-common-protos<2.0dev,>=1.6.0\n",
      "  Using cached googleapis_common_protos-1.53.0-py2.py3-none-any.whl (198 kB)\n",
      "Collecting google-crc32c<2.0dev,>=1.0\n",
      "  Using cached google_crc32c-1.1.2-cp39-cp39-manylinux2014_x86_64.whl (38 kB)\n",
      "Requirement already satisfied: cffi>=1.0.0 in /opt/conda/lib/python3.9/site-packages (from google-crc32c<2.0dev,>=1.0->google-resumable-media<2.0dev,>=1.2.0->google-cloud-storage<2,>=1.13.0->kfp==1.6.0rc0) (1.14.5)\n",
      "Requirement already satisfied: pycparser in /opt/conda/lib/python3.9/site-packages (from cffi>=1.0.0->google-crc32c<2.0dev,>=1.0->google-resumable-media<2.0dev,>=1.2.0->google-cloud-storage<2,>=1.13.0->kfp==1.6.0rc0) (2.20)\n",
      "Requirement already satisfied: pyrsistent>=0.14.0 in /opt/conda/lib/python3.9/site-packages (from jsonschema<4,>=3.0.1->kfp==1.6.0rc0) (0.17.3)\n",
      "Requirement already satisfied: attrs>=17.4.0 in /opt/conda/lib/python3.9/site-packages (from jsonschema<4,>=3.0.1->kfp==1.6.0rc0) (21.2.0)\n",
      "Requirement already satisfied: python-dateutil in /opt/conda/lib/python3.9/site-packages (from kfp-server-api<2.0.0,>=1.1.2->kfp==1.6.0rc0) (2.8.1)\n",
      "Requirement already satisfied: urllib3>=1.15 in /opt/conda/lib/python3.9/site-packages (from kfp-server-api<2.0.0,>=1.1.2->kfp==1.6.0rc0) (1.26.4)\n",
      "Requirement already satisfied: certifi in /opt/conda/lib/python3.9/site-packages (from kfp-server-api<2.0.0,>=1.1.2->kfp==1.6.0rc0) (2020.12.5)\n",
      "Requirement already satisfied: requests-oauthlib in /opt/conda/lib/python3.9/site-packages (from kubernetes<13,>=8.0.0->kfp==1.6.0rc0) (1.3.0)\n",
      "Collecting websocket-client!=0.40.0,!=0.41.*,!=0.42.*,>=0.32.0\n",
      "  Using cached websocket_client-0.59.0-py2.py3-none-any.whl (67 kB)\n",
      "Requirement already satisfied: pyparsing>=2.0.2 in /opt/conda/lib/python3.9/site-packages (from packaging>=14.3->google-api-core<2.0.0dev,>=1.21.0->google-cloud-core<2.0dev,>=1.4.1->google-cloud-storage<2,>=1.13.0->kfp==1.6.0rc0) (2.4.7)\n",
      "Requirement already satisfied: pyasn1<0.5.0,>=0.4.6 in /opt/conda/lib/python3.9/site-packages (from pyasn1-modules>=0.2.1->google-auth<2,>=1.6.1->kfp==1.6.0rc0) (0.4.8)\n",
      "Requirement already satisfied: idna<3,>=2.5 in /opt/conda/lib/python3.9/site-packages (from requests<3.0.0dev,>=2.18.0->google-cloud-storage<2,>=1.13.0->kfp==1.6.0rc0) (2.10)\n",
      "Requirement already satisfied: chardet<5,>=3.0.2 in /opt/conda/lib/python3.9/site-packages (from requests<3.0.0dev,>=2.18.0->google-cloud-storage<2,>=1.13.0->kfp==1.6.0rc0) (4.0.0)\n",
      "Requirement already satisfied: wheel in /opt/conda/lib/python3.9/site-packages (from strip-hints<1,>=0.1.8->kfp==1.6.0rc0) (0.36.2)\n",
      "Requirement already satisfied: oauthlib>=3.0.0 in /opt/conda/lib/python3.9/site-packages (from requests-oauthlib->kubernetes<13,>=8.0.0->kfp==1.6.0rc0) (3.0.1)\n",
      "Building wheels for collected packages: kfp\n",
      "  Building wheel for kfp (setup.py) ... \u001b[?25ldone\n",
      "\u001b[?25h  Created wheel for kfp: filename=kfp-1.6.0rc0-py3-none-any.whl size=268376 sha256=ed84356648f8b99eaf77a318d861345760c4403aa3f96987fa33d3c7546bc484\n",
      "  Stored in directory: /tmp/pip-ephem-wheel-cache-_mlgqze0/wheels/2e/98/7b/e58ee9fa6064a250fb6ef17edd8819030b0116f446a8fa1cee\n",
      "Successfully built kfp\n",
      "Installing collected packages: googleapis-common-protos, google-crc32c, google-api-core, websocket-client, google-resumable-media, google-cloud-core, tabulate, strip-hints, requests-toolbelt, kubernetes, kfp-server-api, kfp-pipeline-spec, google-cloud-storage, fire, docstring-parser, Deprecated, absl-py, kfp\n",
      "  Attempting uninstall: absl-py\n",
      "    Found existing installation: absl-py 0.12.0\n",
      "    Uninstalling absl-py-0.12.0:\n",
      "      Successfully uninstalled absl-py-0.12.0\n",
      "\u001b[31mERROR: pip's dependency resolver does not currently take into account all the packages that are installed. This behaviour is the source of the following dependency conflicts.\n",
      "tensorflow 2.4.1 requires six~=1.15.0, but you have six 1.16.0 which is incompatible.\u001b[0m\n",
      "Successfully installed Deprecated-1.2.12 absl-py-0.11.0 docstring-parser-0.7.3 fire-0.4.0 google-api-core-1.26.3 google-cloud-core-1.6.0 google-cloud-storage-1.38.0 google-crc32c-1.1.2 google-resumable-media-1.2.0 googleapis-common-protos-1.53.0 kfp-1.6.0rc0 kfp-pipeline-spec-0.1.7 kfp-server-api-1.5.0 kubernetes-12.0.1 requests-toolbelt-0.9.1 strip-hints-0.1.9 tabulate-0.8.9 websocket-client-0.59.0\n"
     ]
    }
   ],
   "source": [
    "! pip install git+https://github.com/kubeflow/pipelines.git#subdirectory=sdk/python"
   ]
  },
  {
   "cell_type": "code",
   "execution_count": 3,
   "metadata": {},
   "outputs": [
    {
     "data": {
      "text/plain": [
       "'1.6.0-rc.0'"
      ]
     },
     "execution_count": 3,
     "metadata": {},
     "output_type": "execute_result"
    }
   ],
   "source": [
    "import kfp\n",
    "import json\n",
    "import os\n",
    "from kfp.onprem import use_k8s_secret\n",
    "from kfp import components\n",
    "from kfp.components import load_component_from_file, load_component_from_url\n",
    "from kfp import dsl\n",
    "from kfp import compiler\n",
    "\n",
    "kfp.__version__"
   ]
  },
  {
   "cell_type": "markdown",
   "metadata": {},
   "source": [
    "# Enter your gateway loadbalancer and the token from the cookie\n",
    "[Use this extension on chrome to get token]( https://chrome.google.com/webstore/detail/editthiscookie/fngmhnnpilhplaeedifhccceomclgfbg?hl=en)\n",
    "\n",
    "![image.png](./image.png)"
   ]
  },
  {
   "cell_type": "code",
   "execution_count": 7,
   "metadata": {},
   "outputs": [],
   "source": [
    "#Update values for the load balancer and auth session\n",
    "ingress_gateway='http://istio-ingressgateway.istio-system.svc.cluster.local'\n",
    "auth=\"authservice_session=MTYyMDk5NjIyOHxOd3dBTkZKSFJVVkVTVEpGTms1SVN6VkZXRWxGU2xsUlZFSldTa28yTTFoYVQwdFhUalpUTmtoQ1RFOUpRVWhHVTBaTVIwNVZUMEU9fOCpJ6U7TQ0CDRJ2h6lSR4L7WqtTzywd-0Y_XhpnI9eu\"\n",
    "namespace=\"kubeflow-user-example-com\""
   ]
  },
  {
   "cell_type": "code",
   "execution_count": 8,
   "metadata": {},
   "outputs": [],
   "source": [
    "client = kfp.Client(host=ingress_gateway+\"/pipeline\", cookies=auth)"
   ]
  },
  {
   "cell_type": "code",
   "execution_count": 21,
   "metadata": {},
   "outputs": [
    {
     "data": {
      "text/html": [
       "<a href=\"http://istio-ingressgateway.istio-system.svc.cluster.local/pipeline/#/experiments/details/3ebf8f54-1a72-4c1e-8f41-878acdbba58d\" target=\"_blank\" >Experiment details</a>."
      ],
      "text/plain": [
       "<IPython.core.display.HTML object>"
      ]
     },
     "metadata": {},
     "output_type": "display_data"
    },
    {
     "data": {
      "text/plain": [
       "{'created_at': datetime.datetime(2021, 5, 14, 13, 36, 40, tzinfo=tzlocal()),\n",
       " 'description': None,\n",
       " 'id': '3ebf8f54-1a72-4c1e-8f41-878acdbba58d',\n",
       " 'name': 'Default',\n",
       " 'resource_references': [{'key': {'id': 'kubeflow-user-example-com',\n",
       "                                  'type': 'NAMESPACE'},\n",
       "                          'name': None,\n",
       "                          'relationship': 'OWNER'}],\n",
       " 'storage_state': 'STORAGESTATE_AVAILABLE'}"
      ]
     },
     "execution_count": 21,
     "metadata": {},
     "output_type": "execute_result"
    }
   ],
   "source": [
    "client.create_experiment('Default')\n",
    "experiments = client.list_experiments(namespace=namespace)\n",
    "my_experiment = experiments.experiments[0]\n",
    "my_experiment"
   ]
  },
  {
   "cell_type": "markdown",
   "metadata": {},
   "source": [
    "### Using dsl for model archiver and torchserve integration\n",
    "#### Init container is used for mar file generation"
   ]
  },
  {
   "cell_type": "code",
   "execution_count": 22,
   "metadata": {},
   "outputs": [],
   "source": [
    "deploy=\"torchserve\"\n",
    "model=\"cifar10\"\n",
    "isvc_name=deploy+\".\"+namespace+\".\"+\"example.com\"\n",
    "input_req=\"https://kubeflow-dataset.s3.us-east-2.amazonaws.com/cifar10_input/input.json\""
   ]
  },
  {
   "cell_type": "code",
   "execution_count": 23,
   "metadata": {},
   "outputs": [],
   "source": [
    "prepare_tensorboard_op = load_component_from_file(\"./examples/cifar10/yaml/tensorboard/component.yaml\")\n",
    "prep_op = components.load_component_from_file(\n",
    "    \"./examples/cifar10/yaml/pre_process/component.yaml\"\n",
    ")\n",
    "train_op = components.load_component_from_file(\n",
    "    \"./examples/cifar10/yaml/train/component.yaml\"\n",
    ")\n",
    "deploy_op = load_component_from_file(\"./examples/cifar10/yaml/deploy/component.yaml\")\n",
    "pred_op = load_component_from_file(\"./examples/cifar10/yaml/prediction/component.yaml\")"
   ]
  },
  {
   "cell_type": "code",
   "execution_count": 24,
   "metadata": {},
   "outputs": [],
   "source": [
    "minio_op = components.load_component_from_file(\n",
    "    \"./examples/cifar10/yaml/minio/component.yaml\"\n",
    ")"
   ]
  },
  {
   "cell_type": "code",
   "execution_count": 28,
   "metadata": {},
   "outputs": [],
   "source": [
    "@dsl.pipeline(name=\"Training pipeline\", description=\"Sample training job test\")\n",
    "def pytorch_cifar10(minio_endpoint='http://minio-service.kubeflow:9000',\n",
    "    log_bucket='mlpipeline',\n",
    "    log_dir=f'tensorboard/logs/{dsl.RUN_ID_PLACEHOLDER}',\n",
    "    mar_path=f'mar/{dsl.RUN_ID_PLACEHOLDER}/model-store',\n",
    "    config_prop_path=f'mar/{dsl.RUN_ID_PLACEHOLDER}/config',\n",
    "    model_uri = f's3://mlpipeline/mar/{dsl.RUN_ID_PLACEHOLDER}',\n",
    "    tf_image='jagadeeshj/tb_plugin:v1.8'):\n",
    "    \n",
    "    prepare_tb_task = prepare_tensorboard_op(\n",
    "        log_dir_uri=f's3://{log_bucket}/{log_dir}',\n",
    "        image=tf_image,\n",
    "        pod_template_spec=json.dumps({\n",
    "            'spec': {\n",
    "                'containers': [{\n",
    "                    'env': [{\n",
    "                        'name': 'AWS_ACCESS_KEY_ID',\n",
    "                        'valueFrom': {\n",
    "                            'secretKeyRef': {\n",
    "                                'name': 'mlpipeline-minio-artifact',\n",
    "                                'key': 'accesskey'\n",
    "                            }\n",
    "                        }\n",
    "                    }, {\n",
    "                        'name': 'AWS_SECRET_ACCESS_KEY',\n",
    "                        'valueFrom': {\n",
    "                            'secretKeyRef': {\n",
    "                                'name': 'mlpipeline-minio-artifact',\n",
    "                                'key': 'secretkey'\n",
    "                            }\n",
    "                        }\n",
    "                    }, {\n",
    "                        'name': 'AWS_REGION',\n",
    "                        'value': 'minio'\n",
    "                    }, {\n",
    "                        'name': 'S3_ENDPOINT',\n",
    "                        'value': f'{minio_endpoint}',\n",
    "                    }, {\n",
    "                        'name': 'S3_USE_HTTPS',\n",
    "                        'value': '0',\n",
    "                    }, {\n",
    "                        'name': 'S3_VERIFY_SSL',\n",
    "                        'value': '0',\n",
    "                    }]\n",
    "                }],\n",
    "            },\n",
    "        })\n",
    "    ).set_display_name(\"Visualization\")\n",
    "    \n",
    "    prep_task=prep_op().after(prepare_tb_task).set_display_name(\"Preprocess & Transform\")\n",
    "    train_task=train_op(input_data=prep_task.outputs['output_data'], profiler=\"pytorch\").after(prep_task).set_display_name(\"Training\")\n",
    "    minio_tb_upload = (minio_op( bucket_name=\"mlpipeline\", folder_name=log_dir, input_path=train_task.outputs[\"tensorboard_root\"], filename=\"\",) .apply( use_k8s_secret( secret_name=\"mlpipeline-minio-artifact\", k8s_secret_key_to_env={ \"secretkey\": \"MINIO_SECRET_KEY\", \"accesskey\": \"MINIO_ACCESS_KEY\", },)) .after(train_task) .set_display_name(\"Tensorboard Events Pusher\")) \n",
    "    minio_mar_upload = ( minio_op( bucket_name=\"mlpipeline\", folder_name=mar_path, input_path=train_task.outputs[\"checkpoint_dir\"], filename=\"cifar10_test.mar\",) .apply( use_k8s_secret( secret_name=\"mlpipeline-minio-artifact\", k8s_secret_key_to_env={ \"secretkey\": \"MINIO_SECRET_KEY\", \"accesskey\": \"MINIO_ACCESS_KEY\", },)) .after(train_task) .set_display_name(\"Mar Pusher\")) \n",
    "    minio_config_upload = ( minio_op( bucket_name=\"mlpipeline\", folder_name=config_prop_path, input_path=train_task.outputs[\"checkpoint_dir\"], filename=\"config.properties\",) .apply( use_k8s_secret( secret_name=\"mlpipeline-minio-artifact\", k8s_secret_key_to_env={ \"secretkey\": \"MINIO_SECRET_KEY\", \"accesskey\": \"MINIO_ACCESS_KEY\", },)) .after(train_task) .set_display_name(\"Conifg Pusher\"))\n",
    "    \n",
    "    \n",
    "    model_uri= str(model_uri)\n",
    "    isvc_yaml = '''\n",
    "    apiVersion: \"serving.kubeflow.org/v1beta1\"\n",
    "    kind: \"InferenceService\"\n",
    "    metadata:\n",
    "      name: {}\n",
    "      namespace: {}\n",
    "    spec:\n",
    "      predictor:\n",
    "        serviceAccountName: sa\n",
    "        pytorch:\n",
    "          storageUri: {}\n",
    "          resources:\n",
    "            limits:\n",
    "              memory: 4Gi   \n",
    "    '''.format(deploy, namespace, model_uri)\n",
    "    deploy_task = deploy_op(\n",
    "        action='apply',\n",
    "        inferenceservice_yaml=isvc_yaml\n",
    "    ).after(minio_mar_upload).set_display_name(\"Deployer\")\n",
    "    pred_task = (\n",
    "        pred_op(\n",
    "            host_name=isvc_name,\n",
    "            input_request=input_req,\n",
    "            cookie=auth,\n",
    "            url=ingress_gateway,\n",
    "            model=model,\n",
    "            inference_type=\"predict\",\n",
    "        )\n",
    "        .after(deploy_task)\n",
    "        .set_display_name(\"Prediction\")\n",
    "    )\n",
    "    explain_task = (\n",
    "        pred_op(\n",
    "            host_name=isvc_name,\n",
    "            input_request=input_req,\n",
    "            cookie=auth,\n",
    "            url=ingress_gateway,\n",
    "            model=model,\n",
    "            inference_type=\"explain\",\n",
    "        )\n",
    "        .after(pred_task)\n",
    "        .set_display_name(\"Explanation\")\n",
    "    )    "
   ]
  },
  {
   "cell_type": "code",
   "execution_count": 29,
   "metadata": {},
   "outputs": [],
   "source": [
    "# Compile pipeline\n",
    "compiler.Compiler().compile(pytorch_cifar10, 'pytorch.tar.gz', type_check=True)"
   ]
  },
  {
   "cell_type": "code",
   "execution_count": 30,
   "metadata": {},
   "outputs": [
    {
     "data": {
      "text/html": [
       "<a href=\"http://istio-ingressgateway.istio-system.svc.cluster.local/pipeline/#/runs/details/a59ee242-1f52-4cc8-946b-1c00e931bc38\" target=\"_blank\" >Run details</a>."
      ],
      "text/plain": [
       "<IPython.core.display.HTML object>"
      ]
     },
     "metadata": {},
     "output_type": "display_data"
    }
   ],
   "source": [
    "# Execute pipeline\n",
    "run = client.run_pipeline(my_experiment.id, 'pytorch-cifar10', 'pytorch.tar.gz')"
   ]
  },
  {
   "cell_type": "code",
   "execution_count": null,
   "metadata": {},
   "outputs": [],
   "source": []
  }
 ],
 "metadata": {
  "kernelspec": {
   "display_name": "Python 3",
   "language": "python",
   "name": "python3"
  },
  "language_info": {
   "codemirror_mode": {
    "name": "ipython",
    "version": 3
   },
   "file_extension": ".py",
   "mimetype": "text/x-python",
   "name": "python",
   "nbconvert_exporter": "python",
   "pygments_lexer": "ipython3",
   "version": "3.9.2"
  }
 },
 "nbformat": 4,
 "nbformat_minor": 4
}