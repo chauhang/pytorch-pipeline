{
 "cells": [
  {
   "cell_type": "markdown",
   "metadata": {},
   "source": [
    "# Load packages"
   ]
  },
  {
   "cell_type": "code",
   "execution_count": 1,
   "metadata": {},
   "outputs": [
    {
     "name": "stdout",
     "output_type": "stream",
     "text": [
      "Found existing installation: kfp 1.4.0\n",
      "Uninstalling kfp-1.4.0:\n",
      "  Successfully uninstalled kfp-1.4.0\n",
      "Collecting kfp\n",
      "  Using cached kfp-1.4.0-py3-none-any.whl\n",
      "Requirement already satisfied: requests-toolbelt>=0.8.0 in /opt/conda/lib/python3.8/site-packages (from kfp) (0.9.1)\n",
      "Requirement already satisfied: PyYAML>=5.3 in /opt/conda/lib/python3.8/site-packages (from kfp) (5.4.1)\n",
      "Requirement already satisfied: docstring-parser>=0.7.3 in /opt/conda/lib/python3.8/site-packages (from kfp) (0.7.3)\n",
      "Requirement already satisfied: kubernetes<12.0.0,>=8.0.0 in /opt/conda/lib/python3.8/site-packages (from kfp) (10.0.1)\n",
      "Requirement already satisfied: Deprecated in /opt/conda/lib/python3.8/site-packages (from kfp) (1.2.12)\n",
      "Requirement already satisfied: strip-hints in /opt/conda/lib/python3.8/site-packages (from kfp) (0.1.9)\n",
      "Requirement already satisfied: kfp-pipeline-spec<0.2.0,>=0.1.0 in /opt/conda/lib/python3.8/site-packages (from kfp) (0.1.7)\n",
      "Requirement already satisfied: kfp-server-api<2.0.0,>=1.1.2 in /opt/conda/lib/python3.8/site-packages (from kfp) (1.5.0)\n",
      "Requirement already satisfied: fire>=0.3.1 in /opt/conda/lib/python3.8/site-packages (from kfp) (0.4.0)\n",
      "Requirement already satisfied: jsonschema>=3.0.1 in /opt/conda/lib/python3.8/site-packages (from kfp) (3.2.0)\n",
      "Requirement already satisfied: cloudpickle in /opt/conda/lib/python3.8/site-packages (from kfp) (1.6.0)\n",
      "Requirement already satisfied: click in /opt/conda/lib/python3.8/site-packages (from kfp) (7.1.2)\n",
      "Requirement already satisfied: google-cloud-storage>=1.13.0 in /opt/conda/lib/python3.8/site-packages (from kfp) (1.37.1)\n",
      "Requirement already satisfied: google-auth>=1.6.1 in /opt/conda/lib/python3.8/site-packages (from kfp) (1.28.1)\n",
      "Requirement already satisfied: tabulate in /opt/conda/lib/python3.8/site-packages (from kfp) (0.8.9)\n",
      "Requirement already satisfied: six in /opt/conda/lib/python3.8/site-packages (from fire>=0.3.1->kfp) (1.15.0)\n",
      "Requirement already satisfied: termcolor in /opt/conda/lib/python3.8/site-packages (from fire>=0.3.1->kfp) (1.1.0)\n",
      "Requirement already satisfied: setuptools>=40.3.0 in /opt/conda/lib/python3.8/site-packages (from google-auth>=1.6.1->kfp) (49.6.0.post20210108)\n",
      "Requirement already satisfied: rsa<5,>=3.1.4 in /opt/conda/lib/python3.8/site-packages (from google-auth>=1.6.1->kfp) (4.7.2)\n",
      "Requirement already satisfied: cachetools<5.0,>=2.0.0 in /opt/conda/lib/python3.8/site-packages (from google-auth>=1.6.1->kfp) (4.2.1)\n",
      "Requirement already satisfied: pyasn1-modules>=0.2.1 in /opt/conda/lib/python3.8/site-packages (from google-auth>=1.6.1->kfp) (0.2.8)\n",
      "Requirement already satisfied: requests<3.0.0dev,>=2.18.0 in /opt/conda/lib/python3.8/site-packages (from google-cloud-storage>=1.13.0->kfp) (2.25.1)\n",
      "Requirement already satisfied: google-cloud-core<2.0dev,>=1.4.1 in /opt/conda/lib/python3.8/site-packages (from google-cloud-storage>=1.13.0->kfp) (1.6.0)\n",
      "Requirement already satisfied: google-resumable-media<2.0dev,>=1.2.0 in /opt/conda/lib/python3.8/site-packages (from google-cloud-storage>=1.13.0->kfp) (1.2.0)\n",
      "Requirement already satisfied: google-api-core<2.0.0dev,>=1.21.0 in /opt/conda/lib/python3.8/site-packages (from google-cloud-core<2.0dev,>=1.4.1->google-cloud-storage>=1.13.0->kfp) (1.26.3)\n",
      "Requirement already satisfied: protobuf>=3.12.0 in /opt/conda/lib/python3.8/site-packages (from google-api-core<2.0.0dev,>=1.21.0->google-cloud-core<2.0dev,>=1.4.1->google-cloud-storage>=1.13.0->kfp) (3.15.7)\n",
      "Requirement already satisfied: pytz in /opt/conda/lib/python3.8/site-packages (from google-api-core<2.0.0dev,>=1.21.0->google-cloud-core<2.0dev,>=1.4.1->google-cloud-storage>=1.13.0->kfp) (2021.1)\n",
      "Requirement already satisfied: googleapis-common-protos<2.0dev,>=1.6.0 in /opt/conda/lib/python3.8/site-packages (from google-api-core<2.0.0dev,>=1.21.0->google-cloud-core<2.0dev,>=1.4.1->google-cloud-storage>=1.13.0->kfp) (1.53.0)\n",
      "Requirement already satisfied: packaging>=14.3 in /opt/conda/lib/python3.8/site-packages (from google-api-core<2.0.0dev,>=1.21.0->google-cloud-core<2.0dev,>=1.4.1->google-cloud-storage>=1.13.0->kfp) (20.9)\n",
      "Requirement already satisfied: google-crc32c<2.0dev,>=1.0 in /opt/conda/lib/python3.8/site-packages (from google-resumable-media<2.0dev,>=1.2.0->google-cloud-storage>=1.13.0->kfp) (1.1.2)\n",
      "Requirement already satisfied: cffi>=1.0.0 in /opt/conda/lib/python3.8/site-packages (from google-crc32c<2.0dev,>=1.0->google-resumable-media<2.0dev,>=1.2.0->google-cloud-storage>=1.13.0->kfp) (1.14.5)\n",
      "Requirement already satisfied: pycparser in /opt/conda/lib/python3.8/site-packages (from cffi>=1.0.0->google-crc32c<2.0dev,>=1.0->google-resumable-media<2.0dev,>=1.2.0->google-cloud-storage>=1.13.0->kfp) (2.20)\n",
      "Requirement already satisfied: attrs>=17.4.0 in /opt/conda/lib/python3.8/site-packages (from jsonschema>=3.0.1->kfp) (20.3.0)\n",
      "Requirement already satisfied: pyrsistent>=0.14.0 in /opt/conda/lib/python3.8/site-packages (from jsonschema>=3.0.1->kfp) (0.17.3)\n",
      "Requirement already satisfied: python-dateutil in /opt/conda/lib/python3.8/site-packages (from kfp-server-api<2.0.0,>=1.1.2->kfp) (2.8.1)\n",
      "Requirement already satisfied: urllib3>=1.15 in /opt/conda/lib/python3.8/site-packages (from kfp-server-api<2.0.0,>=1.1.2->kfp) (1.26.4)\n",
      "Requirement already satisfied: certifi in /opt/conda/lib/python3.8/site-packages (from kfp-server-api<2.0.0,>=1.1.2->kfp) (2020.12.5)\n",
      "Requirement already satisfied: websocket-client!=0.40.0,!=0.41.*,!=0.42.*,>=0.32.0 in /opt/conda/lib/python3.8/site-packages (from kubernetes<12.0.0,>=8.0.0->kfp) (0.58.0)\n",
      "Requirement already satisfied: requests-oauthlib in /opt/conda/lib/python3.8/site-packages (from kubernetes<12.0.0,>=8.0.0->kfp) (1.3.0)\n",
      "Requirement already satisfied: pyparsing>=2.0.2 in /opt/conda/lib/python3.8/site-packages (from packaging>=14.3->google-api-core<2.0.0dev,>=1.21.0->google-cloud-core<2.0dev,>=1.4.1->google-cloud-storage>=1.13.0->kfp) (2.4.7)\n",
      "Requirement already satisfied: pyasn1<0.5.0,>=0.4.6 in /opt/conda/lib/python3.8/site-packages (from pyasn1-modules>=0.2.1->google-auth>=1.6.1->kfp) (0.4.8)\n",
      "Requirement already satisfied: idna<3,>=2.5 in /opt/conda/lib/python3.8/site-packages (from requests<3.0.0dev,>=2.18.0->google-cloud-storage>=1.13.0->kfp) (2.10)\n",
      "Requirement already satisfied: chardet<5,>=3.0.2 in /opt/conda/lib/python3.8/site-packages (from requests<3.0.0dev,>=2.18.0->google-cloud-storage>=1.13.0->kfp) (4.0.0)\n",
      "Requirement already satisfied: wrapt<2,>=1.10 in /opt/conda/lib/python3.8/site-packages (from Deprecated->kfp) (1.12.1)\n",
      "Requirement already satisfied: oauthlib>=3.0.0 in /opt/conda/lib/python3.8/site-packages (from requests-oauthlib->kubernetes<12.0.0,>=8.0.0->kfp) (3.1.0)\n",
      "Requirement already satisfied: wheel in /opt/conda/lib/python3.8/site-packages (from strip-hints->kfp) (0.36.2)\n",
      "Installing collected packages: kfp\n",
      "Successfully installed kfp-1.4.0\n"
     ]
    }
   ],
   "source": [
    "!pip uninstall -y kfp\n",
    "!pip install kfp"
   ]
  },
  {
   "cell_type": "code",
   "execution_count": 2,
   "metadata": {},
   "outputs": [
    {
     "data": {
      "text/plain": [
       "'1.4.0'"
      ]
     },
     "execution_count": 2,
     "metadata": {},
     "output_type": "execute_result"
    }
   ],
   "source": [
    "import kfp\n",
    "import json\n",
    "import os\n",
    "from kfp import components\n",
    "from kfp.components import load_component_from_file, load_component_from_url\n",
    "from kfp import dsl\n",
    "from kfp import compiler\n",
    "\n",
    "kfp.__version__"
   ]
  },
  {
   "cell_type": "markdown",
   "metadata": {},
   "source": [
    "# Enter your gateway loadbalancer and the token from the cookie\n",
    "[Use this extension on chrome to get token]( https://chrome.google.com/webstore/detail/editthiscookie/fngmhnnpilhplaeedifhccceomclgfbg?hl=en)\n",
    "\n",
    "![image.png](./image.png)"
   ]
  },
  {
   "cell_type": "code",
   "execution_count": 3,
   "metadata": {},
   "outputs": [],
   "source": [
    "#Update values for the load balancer and auth session\n",
    "HOST='istio-ingressgateway.istio-system.svc.cluster.local'\n",
    "AUTH=\"authservice_session=MTYyMDAyMzY0N3xOd3dBTkRkU1Z6UlFOMVJCV0UxTFFsRkxOMUpXTkRNM1ZVTklWMEZEVUV4UFJFUkRWakpYUlZsSFF6TlFNelpGVUZsWFExZzJUMEU9fON4nvL0tmuL9davFMjyNxqrLd_NY3PV5wIBx8J5rzoW\"\n",
    "namespace=\"kubeflow-user-example-com\""
   ]
  },
  {
   "cell_type": "code",
   "execution_count": 8,
   "metadata": {},
   "outputs": [
    {
     "data": {
      "text/plain": [
       "{'created_at': datetime.datetime(2021, 4, 22, 8, 44, 39, tzinfo=tzlocal()),\n",
       " 'description': None,\n",
       " 'id': 'aac96a63-616e-4d88-9334-6ca8df2bb956',\n",
       " 'name': 'Default',\n",
       " 'resource_references': [{'key': {'id': 'kubeflow-user-example-com',\n",
       "                                  'type': 'NAMESPACE'},\n",
       "                          'name': None,\n",
       "                          'relationship': 'OWNER'}],\n",
       " 'storage_state': 'STORAGESTATE_AVAILABLE'}"
      ]
     },
     "execution_count": 8,
     "metadata": {},
     "output_type": "execute_result"
    }
   ],
   "source": [
    "client = kfp.Client(host=HOST+\"/pipeline\", cookies=AUTH)\n",
    "experiments = client.list_experiments(namespace=namespace)\n",
    "my_experiment = experiments.experiments[0]\n",
    "my_experiment"
   ]
  },
  {
   "cell_type": "markdown",
   "metadata": {},
   "source": [
    "### Using dsl for model archiver and torchserve integration\n",
    "#### Init container is used for mar file generation"
   ]
  },
  {
   "cell_type": "code",
   "execution_count": 9,
   "metadata": {},
   "outputs": [],
   "source": [
    "DEPLOY=\"torchserve\"\n",
    "MODEL=\"cifar10\""
   ]
  },
  {
   "cell_type": "code",
   "execution_count": 10,
   "metadata": {},
   "outputs": [],
   "source": [
    "prepare_tensorboard_op = load_component_from_file(\"./examples/cifar10/yaml/tensorboard/component.yaml\")\n",
    "prep_op = components.load_component_from_file(\n",
    "    \"./examples/cifar10/yaml/pre_process/component.yaml\"\n",
    ")\n",
    "train_op = components.load_component_from_file(\n",
    "    \"./examples/cifar10/yaml/train/component.yaml\"\n",
    ")\n",
    "deploy_op = load_component_from_file(\"./examples/cifar10/yaml/deploy/component.yaml\")"
   ]
  },
  {
   "cell_type": "code",
   "execution_count": 11,
   "metadata": {},
   "outputs": [],
   "source": [
    "@dsl.pipeline(name=\"Training pipeline\", description=\"Sample training job test\")\n",
    "def pytorch_cifar10(minio_endpoint='minio-service.kubeflow:9000',\n",
    "    log_bucket='mlpipeline',\n",
    "    log_dir='tensorboard',\n",
    "    tf_image='gcr.io/deeplearning-platform-release/tf2-cpu.2-3:latest'):\n",
    "\n",
    "    @dsl.component\n",
    "    def ls(input_dir: str):\n",
    "        return dsl.ContainerOp(\n",
    "            name='list',\n",
    "            image='busybox:latest',\n",
    "            command=[\"ls\", \"-R\", \"%s\" % input_dir]\n",
    "        )\n",
    "    \n",
    "    prepare_tb_task = prepare_tensorboard_op(\n",
    "        log_dir_uri=f's3://{log_bucket}/{log_dir}',\n",
    "        image=tf_image,\n",
    "        pod_template_spec=json.dumps({\n",
    "            'spec': {\n",
    "                'containers': [{\n",
    "                    'env': [{\n",
    "                        'name': 'AWS_ACCESS_KEY_ID',\n",
    "                        'valueFrom': {\n",
    "                            'secretKeyRef': {\n",
    "                                'name': 'mlpipeline-minio-artifact',\n",
    "                                'key': 'accesskey'\n",
    "                            }\n",
    "                        }\n",
    "                    }, {\n",
    "                        'name': 'AWS_SECRET_ACCESS_KEY',\n",
    "                        'valueFrom': {\n",
    "                            'secretKeyRef': {\n",
    "                                'name': 'mlpipeline-minio-artifact',\n",
    "                                'key': 'secretkey'\n",
    "                            }\n",
    "                        }\n",
    "                    }, {\n",
    "                        'name': 'AWS_REGION',\n",
    "                        'value': 'minio'\n",
    "                    }, {\n",
    "                        'name': 'S3_ENDPOINT',\n",
    "                        'value': f'{minio_endpoint}',\n",
    "                    }, {\n",
    "                        'name': 'S3_USE_HTTPS',\n",
    "                        'value': '0',\n",
    "                    }, {\n",
    "                        'name': 'S3_VERIFY_SSL',\n",
    "                        'value': '0',\n",
    "                    }]\n",
    "                }],\n",
    "            },\n",
    "        })\n",
    "    )\n",
    "    \n",
    "    prep_task=prep_op().after(prepare_tb_task)\n",
    "    train_task=train_op(input_data=prep_task.outputs['output_data']).after(prep_task)\n",
    "    \n",
    "    \n",
    "    model_uri= \"s3://mlpipeline/mar\"\n",
    "    isvc_yaml = '''\n",
    "    apiVersion: \"serving.kubeflow.org/v1beta1\"\n",
    "    kind: \"InferenceService\"\n",
    "    metadata:\n",
    "      name: {}\n",
    "      namespace: {}\n",
    "    spec:\n",
    "      predictor:\n",
    "        serviceAccountName: sa\n",
    "        pytorch:\n",
    "          storageUri: {}\n",
    "          resources:\n",
    "            limits:\n",
    "              memory: 4Gi   \n",
    "    '''.format(DEPLOY, namespace, model_uri)\n",
    "    deploy_task = deploy_op(\n",
    "        action='apply',\n",
    "        inferenceservice_yaml=isvc_yaml\n",
    "    ).after(train_task)\n",
    "    "
   ]
  },
  {
   "cell_type": "code",
   "execution_count": 12,
   "metadata": {},
   "outputs": [],
   "source": [
    "# Compile pipeline\n",
    "compiler.Compiler().compile(pytorch_cifar10, 'pytorch.tar.gz', type_check=True)"
   ]
  },
  {
   "cell_type": "code",
   "execution_count": 13,
   "metadata": {},
   "outputs": [
    {
     "data": {
      "text/html": [
       "<a href=\"http://istio-ingressgateway.istio-system.svc.cluster.local/pipeline/#/runs/details/78af5335-5588-4888-b27f-78cef2f1ef28\" target=\"_blank\" >Run details</a>."
      ],
      "text/plain": [
       "<IPython.core.display.HTML object>"
      ]
     },
     "metadata": {},
     "output_type": "display_data"
    }
   ],
   "source": [
    "# Execute pipeline\n",
    "run = client.run_pipeline(my_experiment.id, 'pytorch-cifar10', 'pytorch.tar.gz')"
   ]
  },
  {
   "cell_type": "markdown",
   "metadata": {},
   "source": [
    "### Wait for inference service below to go to `READY True` state."
   ]
  },
  {
   "cell_type": "code",
   "execution_count": 14,
   "metadata": {},
   "outputs": [
    {
     "name": "stdout",
     "output_type": "stream",
     "text": [
      "NAME         URL                                                       READY   PREV   LATEST   PREVROLLEDOUTREVISION   LATESTREADYREVISION                  AGE\n",
      "torchserve   http://torchserve.kubeflow-user-example-com.example.com   True           100                              torchserve-predictor-default-dzzhb   4d\n"
     ]
    }
   ],
   "source": [
    "!kubectl get isvc $DEPLOY"
   ]
  },
  {
   "cell_type": "markdown",
   "metadata": {},
   "source": [
    "# Inference"
   ]
  },
  {
   "cell_type": "code",
   "execution_count": 16,
   "metadata": {},
   "outputs": [
    {
     "name": "stdout",
     "output_type": "stream",
     "text": [
      "torchserve.kubeflow-user-example-com.example.com\n"
     ]
    }
   ],
   "source": [
    "!kubectl get isvc $DEPLOY -o jsonpath='{.items[0].status.url}' | cut -d \"/\" -f 3"
   ]
  },
  {
   "cell_type": "code",
   "execution_count": 17,
   "metadata": {},
   "outputs": [
    {
     "data": {
      "text/plain": [
       "'torchserve.kubeflow-user-example-com.example.com'"
      ]
     },
     "execution_count": 17,
     "metadata": {},
     "output_type": "execute_result"
    }
   ],
   "source": [
    "S_HOSTNAME=!kubectl get isvc $DEPLOY  -o jsonpath='{.items[0].status.url}' | cut -d \"/\" -f 3\n",
    "SERVICE_HOSTNAME=S_HOSTNAME[0]\n",
    "SERVICE_HOSTNAME"
   ]
  },
  {
   "cell_type": "markdown",
   "metadata": {},
   "source": [
    "# Prediction"
   ]
  },
  {
   "cell_type": "code",
   "execution_count": 97,
   "metadata": {},
   "outputs": [
    {
     "name": "stdout",
     "output_type": "stream",
     "text": [
      "*   Trying 10.100.251.14:80...\n",
      "* TCP_NODELAY set\n",
      "* Connected to istio-ingressgateway.istio-system.svc.cluster.local (10.100.251.14) port 80 (#0)\n",
      "> POST /v1/models/cifar10:predict HTTP/1.1\n",
      "> Host: torchserve.kubeflow-user-example-com.example.com\n",
      "> User-Agent: curl/7.68.0\n",
      "> Accept: */*\n",
      "> Cookie: authservice_session=MTYxOTc1NzIzNHxOd3dBTkVNM1Qwb3pWVGRJV0VKSlVUSllWMGhFTTBORU5WVXlOVE16V1RaVVEwMUdVVVl5VlZwRVZEVkZVRlJEVEVSVVExZElOa0U9fLS1hlH4DJZ2Qi0reGBgIo-qBZqPJHygxiaXUTGEooKQ\n",
      "> Content-Length: 148025\n",
      "> Content-Type: application/x-www-form-urlencoded\n",
      "> Expect: 100-continue\n",
      "> \n",
      "* Mark bundle as not supporting multiuse\n",
      "< HTTP/1.1 100 Continue\n",
      "* We are completely uploaded and fine\n",
      "* Mark bundle as not supporting multiuse\n",
      "< HTTP/1.1 200 OK\n",
      "< content-length: 150\n",
      "< content-type: application/json; charset=UTF-8\n",
      "< date: Fri, 30 Apr 2021 14:10:51 GMT\n",
      "< server: istio-envoy\n",
      "< x-envoy-upstream-service-time: 338\n",
      "< \n",
      "* Connection #0 to host istio-ingressgateway.istio-system.svc.cluster.local left intact\n",
      "{\"predictions\": [{\"9\": 0.6288057565689087, \"1\": 0.3110889494419098, \"6\": 0.024811454117298126, \"8\": 0.013078056275844574, \"2\": 0.009585801512002945}]}"
     ]
    }
   ],
   "source": [
    "!curl -v -H \"Host: torchserve.kubeflow-user-example-com.example.com\" -H \"Cookie: authservice_session=MTYxOTc1NzIzNHxOd3dBTkVNM1Qwb3pWVGRJV0VKSlVUSllWMGhFTTBORU5WVXlOVE16V1RaVVEwMUdVVVl5VlZwRVZEVkZVRlJEVEVSVVExZElOa0U9fLS1hlH4DJZ2Qi0reGBgIo-qBZqPJHygxiaXUTGEooKQ\" \"http://istio-ingressgateway.istio-system.svc.cluster.local/v1/models/cifar10:predict\" -d @./examples/cifar10/input.json"
   ]
  },
  {
   "cell_type": "code",
   "execution_count": 20,
   "metadata": {},
   "outputs": [],
   "source": [
    "!curl -v -H \"Host: torchserve.kubeflow-user-example-com.example.com\" -H \"Cookie: authservice_session=MTYxOTc1NzIzNHxOd3dBTkVNM1Qwb3pWVGRJV0VKSlVUSllWMGhFTTBORU5WVXlOVE16V1RaVVEwMUdVVVl5VlZwRVZEVkZVRlJEVEVSVVExZElOa0U9fLS1hlH4DJZ2Qi0reGBgIo-qBZqPJHygxiaXUTGEooKQ\" \"http://istio-ingressgateway.istio-system.svc.cluster.local/v1/models/cifar10:explain\" -d @./examples/cifar10/input.json"
   ]
  },
  {
   "cell_type": "code",
   "execution_count": null,
   "metadata": {},
   "outputs": [],
   "source": []
  }
 ],
 "metadata": {
  "kernelspec": {
   "display_name": "Python 3",
   "language": "python",
   "name": "python3"
  },
  "language_info": {
   "codemirror_mode": {
    "name": "ipython",
    "version": 3
   },
   "file_extension": ".py",
   "mimetype": "text/x-python",
   "name": "python",
   "nbconvert_exporter": "python",
   "pygments_lexer": "ipython3",
   "version": "3.8.8"
  }
 },
 "nbformat": 4,
 "nbformat_minor": 4
}
