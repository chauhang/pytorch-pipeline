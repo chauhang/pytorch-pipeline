{
 "cells": [
  {
   "cell_type": "code",
   "execution_count": 1,
   "id": "4a924fdb",
   "metadata": {},
   "outputs": [
    {
     "name": "stdout",
     "output_type": "stream",
     "text": [
      "Found existing installation: kfp 1.4.0\n",
      "Uninstalling kfp-1.4.0:\n",
      "  Successfully uninstalled kfp-1.4.0\n"
     ]
    }
   ],
   "source": [
    "!pip uninstall -y kfp"
   ]
  },
  {
   "cell_type": "code",
   "execution_count": 19,
   "id": "73cdb708",
   "metadata": {},
   "outputs": [
    {
     "name": "stdout",
     "output_type": "stream",
     "text": [
      "Requirement already satisfied: kfp in /opt/conda/lib/python3.8/site-packages (1.4.0)\n",
      "Collecting pytorch_lightning==1.0.2\n",
      "  Downloading pytorch_lightning-1.0.2-py3-none-any.whl (532 kB)\n",
      "\u001b[K     |████████████████████████████████| 532 kB 8.2 MB/s eta 0:00:01\n",
      "\u001b[?25hRequirement already satisfied: PyYAML>=5.1 in /opt/conda/lib/python3.8/site-packages (from pytorch_lightning==1.0.2) (5.4.1)\n",
      "Collecting tensorboard>=2.2.0\n",
      "  Downloading tensorboard-2.5.0-py3-none-any.whl (6.0 MB)\n",
      "\u001b[K     |████████████████████████████████| 6.0 MB 27.7 MB/s eta 0:00:01\n",
      "\u001b[?25hRequirement already satisfied: numpy>=1.16.4 in /opt/conda/lib/python3.8/site-packages (from pytorch_lightning==1.0.2) (1.20.2)\n",
      "Collecting torch>=1.3\n",
      "  Downloading torch-1.8.1-cp38-cp38-manylinux1_x86_64.whl (804.1 MB)\n",
      "\u001b[K     |██████████████████████████████▎ | 760.7 MB 164.3 MB/s eta 0:00:012 MB 100.7 MB/s eta 0:00:08.8 MB 100.7 MB/s eta 0:00:08              | 168.1 MB 190.0 MB/s eta 0:00:04     |████████▋                       | 216.7 MB 190.0 MB/s eta 0:00:04     |█████████▌                      | 239.0 MB 190.0 MB/s eta 0:00:03     |██████████████████              | 454.5 MB 169.5 MB/s eta 0:00:03��███████▋     | 667.4 MB 162.0 MB/s eta 0:00:01     |█████████████████████████████▌  | 740.5 MB 164.3 MB/s eta 0:00:01"
     ]
    },
    {
     "name": "stderr",
     "output_type": "stream",
     "text": [
      "IOPub data rate exceeded.\n",
      "The Jupyter server will temporarily stop sending output\n",
      "to the client in order to avoid crashing it.\n",
      "To change this limit, set the config variable\n",
      "`--ServerApp.iopub_data_rate_limit`.\n",
      "\n",
      "Current values:\n",
      "ServerApp.iopub_data_rate_limit=1000000.0 (bytes/sec)\n",
      "ServerApp.rate_limit_window=3.0 (secs)\n",
      "\n"
     ]
    },
    {
     "name": "stdout",
     "output_type": "stream",
     "text": [
      "\u001b[K     |████████████████████████████████| 804.1 MB 168.0 MB/s eta 0:00:01"
     ]
    }
   ],
   "source": [
    "!pip install kfp pytorch_lightning==1.0.2"
   ]
  },
  {
   "cell_type": "code",
   "execution_count": 29,
   "id": "b89c90f4",
   "metadata": {},
   "outputs": [],
   "source": [
    "import kfp\n",
    "\n",
    "from kfp.components import load_component_from_file, load_component_from_url, create_component_from_func\n",
    "from kfp import dsl\n",
    "from kfp import compiler\n",
    "import json"
   ]
  },
  {
   "cell_type": "code",
   "execution_count": 30,
   "id": "ab1df531",
   "metadata": {},
   "outputs": [
    {
     "data": {
      "text/plain": [
       "'1.4.0'"
      ]
     },
     "execution_count": 30,
     "metadata": {},
     "output_type": "execute_result"
    }
   ],
   "source": [
    "kfp.__version__"
   ]
  },
  {
   "cell_type": "code",
   "execution_count": 31,
   "id": "b91a3f78",
   "metadata": {},
   "outputs": [],
   "source": [
    "#Update values for the load balancer and auth session\n",
    "HOST='istio-ingressgateway.istio-system.svc.cluster.local'\n",
    "AUTH=\"authservice_session=MTYxOTYwMDA3MXxOd3dBTkRaTlFVRlJSazVLTkV0T1ZVcFZRamRYVWs5S1ZrRlJTVVZFTWxWQlVEWkhSbEJJU1ZKSFJsUlpVMFZGVGpSS05VVmFSVkU9fEc65xAZpii1Q9jqI0khMApPA-349QLI5lt2siZOD-AF\"\n",
    "namespace=\"kubeflow-user-example-com\""
   ]
  },
  {
   "cell_type": "code",
   "execution_count": 32,
   "id": "ea734f1a",
   "metadata": {},
   "outputs": [
    {
     "data": {
      "text/plain": [
       "{'created_at': datetime.datetime(2021, 4, 22, 8, 44, 39, tzinfo=tzlocal()),\n",
       " 'description': None,\n",
       " 'id': 'aac96a63-616e-4d88-9334-6ca8df2bb956',\n",
       " 'name': 'Default',\n",
       " 'resource_references': [{'key': {'id': 'kubeflow-user-example-com',\n",
       "                                  'type': 'NAMESPACE'},\n",
       "                          'name': None,\n",
       "                          'relationship': 'OWNER'}],\n",
       " 'storage_state': 'STORAGESTATE_AVAILABLE'}"
      ]
     },
     "execution_count": 32,
     "metadata": {},
     "output_type": "execute_result"
    }
   ],
   "source": [
    "client = kfp.Client(host=HOST+\"/pipeline\", cookies=AUTH)\n",
    "experiments = client.list_experiments(namespace=\"kubeflow-user-example-com\")\n",
    "my_experiment = experiments.experiments[0]\n",
    "my_experiment"
   ]
  },
  {
   "cell_type": "code",
   "execution_count": 78,
   "id": "cbe5f1d7",
   "metadata": {},
   "outputs": [],
   "source": [
    "prepare_tensorboard = load_component_from_file(\n",
    "    os.path.join(\n",
    "        os.path.dirname('test.ipynb'),\n",
    "        '../../../components/tensorflow/tensorboard/prepare_tensorboard/component.yaml'\n",
    "    )\n",
    ")\n",
    "# New features used locally not released yet, so we can only use local import.\n",
    "# prepare_tensorboard = components.load_component_from_url(\n",
    "#     'https://raw.githubusercontent.com/kubeflow/pipelines/1.5.0/components/tensorflow/tensorboard/prepare_tensorboard/component.yaml'\n",
    "# )\n",
    "\n",
    "\n",
    "def train(minio_endpoint: 'URI', log_bucket: str, log_dir: 'Path'):\n",
    "    import os\n",
    "    import shutil\n",
    "    from pathlib import Path\n",
    "\n",
    "    import pytorch_lightning as pl\n",
    "    import torch\n",
    "    from minio import Minio\n",
    "    from pytorch_lightning.loggers import TensorBoardLogger\n",
    "    from pytorch_lightning.metrics.functional import accuracy\n",
    "    from torch import nn\n",
    "    from torch.nn import functional as F\n",
    "    from torch.utils.data import DataLoader, random_split\n",
    "    from torchvision import transforms\n",
    "    from torchvision.datasets import MNIST\n",
    "\n",
    "    class LitMNIST(pl.LightningModule):\n",
    "\n",
    "        def __init__(self, data_dir='./', hidden_size=64, learning_rate=2e-4):\n",
    "\n",
    "            super().__init__()\n",
    "\n",
    "            # Set our init args as class attributes\n",
    "            self.data_dir = data_dir\n",
    "            self.hidden_size = hidden_size\n",
    "            self.learning_rate = learning_rate\n",
    "\n",
    "            # Hardcode some dataset specific attributes\n",
    "            self.num_classes = 10\n",
    "            self.dims = (1, 28, 28)\n",
    "            channels, width, height = self.dims\n",
    "            self.transform = transforms.Compose([\n",
    "                transforms.ToTensor(),\n",
    "                transforms.Normalize((0.1307,), (0.3081,))\n",
    "            ])\n",
    "\n",
    "            # Define PyTorch model\n",
    "            self.model = nn.Sequential(\n",
    "                nn.Flatten(),\n",
    "                nn.Linear(channels * width * height, hidden_size),\n",
    "                nn.ReLU(),\n",
    "                nn.Dropout(0.1),\n",
    "                nn.Linear(hidden_size, hidden_size),\n",
    "                nn.ReLU(),\n",
    "                nn.Dropout(0.1),\n",
    "                nn.Linear(hidden_size, self.num_classes)\n",
    "            )\n",
    "\n",
    "        def forward(self, x):\n",
    "            x = self.model(x)\n",
    "            return F.log_softmax(x, dim=1)\n",
    "\n",
    "        def training_step(self, batch, batch_idx):\n",
    "            x, y = batch\n",
    "            logits = self(x)\n",
    "            loss = F.nll_loss(logits, y)\n",
    "            return loss\n",
    "\n",
    "        def validation_step(self, batch, batch_idx):\n",
    "            x, y = batch\n",
    "            logits = self(x)\n",
    "            loss = F.nll_loss(logits, y)\n",
    "            preds = torch.argmax(logits, dim=1)\n",
    "            acc = accuracy(preds, y)\n",
    "\n",
    "            # Calling self.log will surface up scalars for you in TensorBoard\n",
    "            self.log('val_loss', loss, prog_bar=True)\n",
    "            self.log('val_acc', acc, prog_bar=True)\n",
    "            return loss\n",
    "\n",
    "        def test_step(self, batch, batch_idx):\n",
    "            # Here we just reuse the validation_step for testing\n",
    "            return self.validation_step(batch, batch_idx)\n",
    "\n",
    "        def configure_optimizers(self):\n",
    "            optimizer = torch.optim.Adam(self.parameters(), lr=self.learning_rate)\n",
    "            return optimizer\n",
    "\n",
    "        def prepare_data(self):\n",
    "            # download\n",
    "            MNIST(self.data_dir, train=True, download=True)\n",
    "            MNIST(self.data_dir, train=False, download=True)\n",
    "\n",
    "        def setup(self, stage=None):\n",
    "\n",
    "            # Assign train/val datasets for use in dataloaders\n",
    "            if stage == 'fit' or stage is None:\n",
    "                mnist_full = MNIST(self.data_dir, train=True, transform=self.transform)\n",
    "                self.mnist_train, self.mnist_val = random_split(mnist_full, [55000, 5000])\n",
    "\n",
    "            # Assign test dataset for use in dataloader(s)\n",
    "            if stage == 'test' or stage is None:\n",
    "                self.mnist_test = MNIST(self.data_dir, train=False, transform=self.transform)\n",
    "\n",
    "        def train_dataloader(self):\n",
    "            return DataLoader(self.mnist_train, batch_size=32)\n",
    "\n",
    "        def val_dataloader(self):\n",
    "            return DataLoader(self.mnist_val, batch_size=32)\n",
    "\n",
    "        def test_dataloader(self):\n",
    "            return DataLoader(self.mnist_test, batch_size=32)\n",
    "\n",
    "\n",
    "    model = LitMNIST()\n",
    "\n",
    "    tensorboard_root = os.getcwd()\n",
    "\n",
    "    if os.path.exists(os.path.join(tensorboard_root, \"mnist_lightning_kubeflow\")):\n",
    "        shutil.rmtree(os.path.join(tensorboard_root, \"mnist_lightning_kubeflow\"))\n",
    "\n",
    "    Path(tensorboard_root).mkdir(parents=True, exist_ok=True)\n",
    "    # Tensorboard root name of the logging directory\n",
    "    tboard = TensorBoardLogger(tensorboard_root, \"mnist_lightning_kubeflow\")\n",
    "\n",
    "    trainer = pl.Trainer(max_epochs=1, logger=tboard)\n",
    "    trainer.fit(model)\n",
    "    trainer.test()\n",
    "\n",
    "\n",
    "    ###########################\n",
    "    # USING MINIO #\n",
    "    ###########################\n",
    "\n",
    "\n",
    "    client = Minio(\n",
    "        minio_endpoint, access_key=\"minio\", secret_key=\"minio123\", secure=False\n",
    "    )\n",
    "\n",
    "    bucket_name = log_bucket\n",
    "    folder_name = 'mnist'\n",
    "    \n",
    "    for path in Path(\"mnist_lightning_kubeflow/version_0/\").rglob(\"*\"):\n",
    "        if not path.is_dir():\n",
    "            client.fput_object(\n",
    "                bucket_name=bucket_name,\n",
    "                object_name=os.path.join(\n",
    "                    folder_name, os.path.relpath(start='mnist_lightning_kubeflow/version_0', path=path)\n",
    "                ),\n",
    "                file_path=path,\n",
    "            )\n",
    "\n",
    "# tensorflow/tensorflow:2.4 may fail with image pull backoff, because of dockerhub rate limiting.\n",
    "train_op = create_component_from_func(\n",
    "    train,\n",
    "    base_image='pytorch/pytorch:latest',\n",
    "    packages_to_install=['minio', 'pytorch_lightning', 'torchvision'],  # TODO: pin minio version\n",
    ")\n"
   ]
  },
  {
   "cell_type": "code",
   "execution_count": 79,
   "id": "86feb633",
   "metadata": {},
   "outputs": [],
   "source": [
    "@dsl.pipeline(name='pipeline-tensorboard-minio')\n",
    "def my_pipeline(\n",
    "    minio_endpoint='minio-service.kubeflow:9000',\n",
    "    log_bucket='mlpipeline',\n",
    "#     log_dir=f'tensorboard/logs/{dsl.RUN_ID_PLACEHOLDER}',\n",
    "    log_dir='mnist',\n",
    "    # Pin to tensorflow 2.3, because in 2.4+ tensorboard cannot load in KFP:\n",
    "    # refer to https://github.com/kubeflow/pipelines/issues/5521.\n",
    "    tf_image='gcr.io/deeplearning-platform-release/tf2-cpu.2-3:latest'\n",
    "):\n",
    "    # tensorboard uses s3 protocol to access minio\n",
    "    prepare_tb_task = prepare_tensorboard(\n",
    "        log_dir_uri=f's3://{log_bucket}/{log_dir}',\n",
    "        image=tf_image,\n",
    "        pod_template_spec=json.dumps({\n",
    "            'spec': {\n",
    "                'containers': [{\n",
    "                    # These env vars make tensorboard access KFP in-cluster minio\n",
    "                    # using s3 protocol.\n",
    "                    # Reference: https://blog.min.io/hyper-scale-machine-learning-with-minio-and-tensorflow/\n",
    "                    'env': [{\n",
    "                        'name': 'AWS_ACCESS_KEY_ID',\n",
    "                        'valueFrom': {\n",
    "                            'secretKeyRef': {\n",
    "                                'name': 'mlpipeline-minio-artifact',\n",
    "                                'key': 'accesskey'\n",
    "                            }\n",
    "                        }\n",
    "                    }, {\n",
    "                        'name': 'AWS_SECRET_ACCESS_KEY',\n",
    "                        'valueFrom': {\n",
    "                            'secretKeyRef': {\n",
    "                                'name': 'mlpipeline-minio-artifact',\n",
    "                                'key': 'secretkey'\n",
    "                            }\n",
    "                        }\n",
    "                    }, {\n",
    "                        'name': 'AWS_REGION',\n",
    "                        'value': 'minio'\n",
    "                    }, {\n",
    "                        'name': 'S3_ENDPOINT',\n",
    "                        'value': f'{minio_endpoint}',\n",
    "                    }, {\n",
    "                        'name': 'S3_USE_HTTPS',\n",
    "                        'value': '0',\n",
    "                    }, {\n",
    "                        'name': 'S3_VERIFY_SSL',\n",
    "                        'value': '0',\n",
    "                    }]\n",
    "                }],\n",
    "            },\n",
    "        })\n",
    "    )\n",
    "    train_task = train_op(\n",
    "        minio_endpoint=minio_endpoint,\n",
    "        log_bucket=log_bucket,\n",
    "        log_dir=log_dir,\n",
    "    )\n",
    "    # optional, let training task use the same tensorflow image as specified tensorboard\n",
    "    train_task.container.image = tf_image\n",
    "    train_task.after(prepare_tb_task)\n"
   ]
  },
  {
   "cell_type": "code",
   "execution_count": 80,
   "id": "8980fee0",
   "metadata": {},
   "outputs": [],
   "source": [
    "compiler.Compiler().compile(my_pipeline, 'pytorch.tar.gz', type_check=True)"
   ]
  },
  {
   "cell_type": "code",
   "execution_count": 81,
   "id": "ad93bbae",
   "metadata": {},
   "outputs": [
    {
     "data": {
      "text/html": [
       "<a href=\"http://istio-ingressgateway.istio-system.svc.cluster.local/pipeline/#/runs/details/5506495e-414a-4295-a96d-b1c6bac70995\" target=\"_blank\" >Run details</a>."
      ],
      "text/plain": [
       "<IPython.core.display.HTML object>"
      ]
     },
     "metadata": {},
     "output_type": "display_data"
    }
   ],
   "source": [
    "run = client.run_pipeline(my_experiment.id, 'pytorch-model', 'pytorch.tar.gz')"
   ]
  },
  {
   "cell_type": "code",
   "execution_count": null,
   "id": "76ada4d2",
   "metadata": {},
   "outputs": [],
   "source": []
  }
 ],
 "metadata": {
  "kernelspec": {
   "display_name": "Python 3",
   "language": "python",
   "name": "python3"
  },
  "language_info": {
   "codemirror_mode": {
    "name": "ipython",
    "version": 3
   },
   "file_extension": ".py",
   "mimetype": "text/x-python",
   "name": "python",
   "nbconvert_exporter": "python",
   "pygments_lexer": "ipython3",
   "version": "3.8.8"
  }
 },
 "nbformat": 4,
 "nbformat_minor": 5
}
