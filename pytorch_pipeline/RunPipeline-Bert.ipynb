{
 "cells": [
  {
   "cell_type": "markdown",
   "metadata": {},
   "source": [
    "# Bert Pipeline"
   ]
  },
  {
   "cell_type": "markdown",
   "metadata": {},
   "source": [
    "## Prequisites\n",
    "\n",
    "#### Following dependent packages needs to be installed before running the build script\n",
    "\n",
    "1. kfp - `! pip install git+https://github.com/kubeflow/pipelines.git#subdirectory=sdk/python`\n",
    "2. docker - should be logged in using docker login\n",
    "3. yq - install using snap - https://github.com/mikefarah/yq\n",
    "4. jq - v1.6 - https://stedolan.github.io/jq/download/\n",
    "\n",
    "#### ./build.sh takes two arguments\n",
    "\n",
    "1. path to example - For ex: examples/cifar10\n",
    "2. dockerhub username - For ex: shrinathsuresh\n"
   ]
  },
  {
   "cell_type": "markdown",
   "metadata": {},
   "source": [
    "## Install Packages"
   ]
  },
  {
   "cell_type": "code",
   "execution_count": 75,
   "metadata": {},
   "outputs": [
    {
     "name": "stdout",
     "output_type": "stream",
     "text": [
      "Requirement already satisfied: captum in /home/ubuntu/.virtualenvs/base/lib/python3.8/site-packages (0.3.1)\n",
      "Requirement already satisfied: torchvision in /home/ubuntu/.virtualenvs/base/lib/python3.8/site-packages (0.9.1)\n",
      "Requirement already satisfied: matplotlib in /home/ubuntu/.virtualenvs/base/lib/python3.8/site-packages (3.4.2)\n",
      "Requirement already satisfied: pillow in /home/ubuntu/.virtualenvs/base/lib/python3.8/site-packages (8.2.0)\n",
      "Requirement already satisfied: flask in /home/ubuntu/.virtualenvs/base/lib/python3.8/site-packages (2.0.0)\n",
      "Requirement already satisfied: flask_compress in /home/ubuntu/.virtualenvs/base/lib/python3.8/site-packages (1.9.0)\n",
      "Requirement already satisfied: numpy in /home/ubuntu/.virtualenvs/base/lib/python3.8/site-packages (from captum) (1.20.3)\n",
      "Requirement already satisfied: torch>=1.2 in /home/ubuntu/.virtualenvs/base/lib/python3.8/site-packages (from captum) (1.8.1)\n",
      "Requirement already satisfied: typing-extensions in /home/ubuntu/.virtualenvs/base/lib/python3.8/site-packages (from torch>=1.2->captum) (3.10.0.0)\n",
      "Requirement already satisfied: cycler>=0.10 in /home/ubuntu/.virtualenvs/base/lib/python3.8/site-packages (from matplotlib) (0.10.0)\n",
      "Requirement already satisfied: python-dateutil>=2.7 in /home/ubuntu/.virtualenvs/base/lib/python3.8/site-packages (from matplotlib) (2.8.1)\n",
      "Requirement already satisfied: kiwisolver>=1.0.1 in /home/ubuntu/.virtualenvs/base/lib/python3.8/site-packages (from matplotlib) (1.3.1)\n",
      "Requirement already satisfied: pyparsing>=2.2.1 in /home/ubuntu/.virtualenvs/base/lib/python3.8/site-packages (from matplotlib) (2.4.7)\n",
      "Requirement already satisfied: six in /home/ubuntu/.virtualenvs/base/lib/python3.8/site-packages (from cycler>=0.10->matplotlib) (1.16.0)\n",
      "Requirement already satisfied: Jinja2>=3.0 in /home/ubuntu/.virtualenvs/base/lib/python3.8/site-packages (from flask) (3.0.0)\n",
      "Requirement already satisfied: itsdangerous>=2.0 in /home/ubuntu/.virtualenvs/base/lib/python3.8/site-packages (from flask) (2.0.0)\n",
      "Requirement already satisfied: Werkzeug>=2.0 in /home/ubuntu/.virtualenvs/base/lib/python3.8/site-packages (from flask) (2.0.0)\n",
      "Requirement already satisfied: click>=7.1.2 in /home/ubuntu/.virtualenvs/base/lib/python3.8/site-packages (from flask) (7.1.2)\n",
      "Requirement already satisfied: MarkupSafe>=2.0.0rc2 in /home/ubuntu/.virtualenvs/base/lib/python3.8/site-packages (from Jinja2>=3.0->flask) (2.0.0)\n",
      "Requirement already satisfied: brotli in /home/ubuntu/.virtualenvs/base/lib/python3.8/site-packages (from flask_compress) (1.0.9)\n"
     ]
    }
   ],
   "source": [
    "!pip install captum torchvision matplotlib pillow flask flask_compress"
   ]
  },
  {
   "cell_type": "markdown",
   "metadata": {},
   "source": [
    "**Make sure the current working directory is \"pytorch_pipeline\"**"
   ]
  },
  {
   "cell_type": "code",
   "execution_count": 73,
   "metadata": {},
   "outputs": [
    {
     "data": {
      "text/plain": [
       "'/home/ubuntu/Repositories/fb/pytorch-pipeline/pytorch_pipeline'"
      ]
     },
     "execution_count": 73,
     "metadata": {},
     "output_type": "execute_result"
    }
   ],
   "source": [
    "import os\n",
    "os.getcwd()"
   ]
  },
  {
   "cell_type": "markdown",
   "metadata": {},
   "source": [
    "## Generate Pipeline file"
   ]
  },
  {
   "cell_type": "code",
   "execution_count": 35,
   "metadata": {},
   "outputs": [
    {
     "name": "stdout",
     "output_type": "stream",
     "text": [
      "++++ Building component images with tag=17-05-2021-20-52-27.228859\n",
      "IMAGE TO BUILD: jagadeeshj/pytorch_pipeline:17-05-2021-20-52-27.228859\n",
      "Sending build context to Docker daemon  11.95MB\n",
      "Step 1/9 : FROM pytorch/pytorch:latest\n",
      " ---> 5ffed6c83695\n",
      "Step 2/9 : COPY requirements.txt requirements.txt\n",
      " ---> Using cache\n",
      " ---> 89dbbc29d83f\n",
      "Step 3/9 : RUN apt-get update\n",
      " ---> Using cache\n",
      " ---> 0973ae1700b3\n",
      "Step 4/9 : RUN apt-get install -y git\n",
      " ---> Using cache\n",
      " ---> d77abb2b673d\n",
      "Step 5/9 : RUN git clone -b main https://github.com/chauhang/pytorch-pipeline\n",
      " ---> Using cache\n",
      " ---> df292fcd885d\n",
      "Step 6/9 : RUN pip3 install -r requirements.txt\n",
      " ---> Using cache\n",
      " ---> 24e900925cfc\n",
      "Step 7/9 : ENV PYTHONPATH /workspace/pytorch-pipeline\n",
      " ---> Using cache\n",
      " ---> f4e61988af23\n",
      "Step 8/9 : WORKDIR /workspace/pytorch-pipeline\n",
      " ---> Using cache\n",
      " ---> d7d8f645375b\n",
      "Step 9/9 : ENTRYPOINT /bin/bash\n",
      " ---> Using cache\n",
      " ---> 318ed7bd4a08\n",
      "Successfully built 318ed7bd4a08\n",
      "Successfully tagged jagadeeshj/pytorch_pipeline:17-05-2021-20-52-27.228859\n",
      "The push refers to repository [docker.io/jagadeeshj/pytorch_pipeline]\n",
      "\n",
      "\u001b[1Bcce9a84b: Preparing \n",
      "\u001b[1B46efb6af: Preparing \n",
      "\u001b[1B2912ea2b: Preparing \n",
      "\u001b[1B95254397: Preparing \n",
      "\u001b[1B954e3bb0: Preparing \n",
      "\u001b[1B62e73fa9: Preparing \n",
      "\u001b[1B491659cb: Preparing \n",
      "\u001b[1Bdc413928: Preparing \n",
      "\u001b[1Bad8f2cae: Preparing \n",
      "\u001b[1B581dbc3c: Preparing \n",
      "\u001b[1B6facb613: Layer already exists \u001b[11A\u001b[2K\u001b[4A\u001b[2K\u001b[5A\u001b[2K\u001b[2A\u001b[2K\u001b[1A\u001b[2K17-05-2021-20-52-27.228859: digest: sha256:d5ef6a8b09bcfe3f3c0dba912e55ee3c5cd1f37c2e49153f5e5bf84e1a4bd836 size: 2631\n",
      "Running pipeline compilation\n",
      "examples/bert/pipeline.py\n"
     ]
    }
   ],
   "source": [
    "! ./build.sh examples/bert jagadeeshj"
   ]
  },
  {
   "cell_type": "markdown",
   "metadata": {},
   "source": [
    "## At the end of this step - pytorch_bert.yaml file will be generated"
   ]
  },
  {
   "cell_type": "code",
   "execution_count": 36,
   "metadata": {},
   "outputs": [
    {
     "data": {
      "text/plain": [
       "'1.6.0-rc.0'"
      ]
     },
     "execution_count": 36,
     "metadata": {},
     "output_type": "execute_result"
    }
   ],
   "source": [
    "import kfp\n",
    "import json\n",
    "import os\n",
    "from PIL import Image\n",
    "from kfp import components\n",
    "from kfp.components import load_component_from_file, load_component_from_url\n",
    "from kfp import dsl\n",
    "from kfp import compiler\n",
    "from pathlib import Path\n",
    "\n",
    "kfp.__version__"
   ]
  },
  {
   "cell_type": "markdown",
   "metadata": {},
   "source": [
    "# Enter your KFP URL and the token from the cookie\n",
    "[Use this extension on chrome to get token]( https://chrome.google.com/webstore/detail/editthiscookie/fngmhnnpilhplaeedifhccceomclgfbg?hl=en)\n",
    "![image.png](image.png)"
   ]
  },
  {
   "cell_type": "markdown",
   "metadata": {},
   "source": [
    "## Set Pipeline URL, Cookie, Experiment and Namespac"
   ]
  },
  {
   "cell_type": "code",
   "execution_count": 49,
   "metadata": {},
   "outputs": [],
   "source": [
    "# KFP_URL='istio-ingressgateway.istio-system.svc.cluster.local'\n",
    "KFP_URL='http://localhost:8080'\n",
    "COOKIE=\"MTYyMTIzNTI4M3xOd3dBTkVaVVNGUTNSMVJIVFZVM1NsTTJWVm8zUlZOTlFVOU9Na2N6V1VzeVZVeFFOazgwV0U1SVFsSldURXBVVjBGWVVVYzJXVkU9fDruba4Uy-aLX2gbaxSW4OWIDQhcsvCKYdfCjZWw0I4o\"\n",
    "AUTH=\"authservice_session=\"+COOKIE\n",
    "NAMESPACE=\"kubeflow-user-example-com\"\n",
    "EXPERIMENT=\"Default\""
   ]
  },
  {
   "cell_type": "markdown",
   "metadata": {},
   "source": [
    "## Set Log bucket and Tensorboard Image"
   ]
  },
  {
   "cell_type": "code",
   "execution_count": 50,
   "metadata": {},
   "outputs": [],
   "source": [
    "MINIO_ENDPOINT=\"http://minio-service.kubeflow:9000\"\n",
    "LOG_BUCKET=\"mlpipeline\"\n",
    "TENSORBOARD_IMAGE=\"jagadeeshj/tb_plugin:v1.8\""
   ]
  },
  {
   "cell_type": "markdown",
   "metadata": {},
   "source": [
    "## Set Inference parameters"
   ]
  },
  {
   "cell_type": "code",
   "execution_count": 60,
   "metadata": {},
   "outputs": [],
   "source": [
    "MODEL_NAME=\"bert\"\n",
    "DEPLOY_NAME=\"bertserve\"\n",
    "ISVC_NAME=DEPLOY_NAME+\".\"+NAMESPACE+\".\"+\"example.com\"\n",
    "INFERENCE_URL=\"http://istio-ingressgateway.istio-system.svc.cluster.local\""
   ]
  },
  {
   "cell_type": "markdown",
   "metadata": {},
   "source": [
    "## Create KFP Client and create an experiment"
   ]
  },
  {
   "cell_type": "code",
   "execution_count": 40,
   "metadata": {},
   "outputs": [
    {
     "data": {
      "text/html": [
       "<a href=\"http://localhost:8080/pipeline/#/experiments/details/aac96a63-616e-4d88-9334-6ca8df2bb956\" target=\"_blank\" >Experiment details</a>."
      ],
      "text/plain": [
       "<IPython.core.display.HTML object>"
      ]
     },
     "metadata": {},
     "output_type": "display_data"
    },
    {
     "data": {
      "text/plain": [
       "{'created_at': datetime.datetime(2021, 4, 22, 8, 44, 39, tzinfo=tzutc()),\n",
       " 'description': None,\n",
       " 'id': 'aac96a63-616e-4d88-9334-6ca8df2bb956',\n",
       " 'name': 'Default',\n",
       " 'resource_references': [{'key': {'id': 'kubeflow-user-example-com',\n",
       "                                  'type': 'NAMESPACE'},\n",
       "                          'name': None,\n",
       "                          'relationship': 'OWNER'}],\n",
       " 'storage_state': 'STORAGESTATE_AVAILABLE'}"
      ]
     },
     "execution_count": 40,
     "metadata": {},
     "output_type": "execute_result"
    }
   ],
   "source": [
    "client = kfp.Client(host=KFP_URL+\"/pipeline\", cookies=AUTH)\n",
    "client.create_experiment(name=EXPERIMENT, namespace=NAMESPACE)\n",
    "experiments = client.list_experiments(namespace=NAMESPACE)\n",
    "my_experiment = experiments.experiments[0]\n",
    "my_experiment"
   ]
  },
  {
   "cell_type": "markdown",
   "metadata": {},
   "source": [
    "## Pipeline params"
   ]
  },
  {
   "cell_type": "code",
   "execution_count": 41,
   "metadata": {},
   "outputs": [],
   "source": [
    "pipeline_params = {\n",
    "    \"minio_endpoint\" : MINIO_ENDPOINT,\n",
    "    \"tf_image\" : TENSORBOARD_IMAGE,\n",
    "    \"log_bucket\" : LOG_BUCKET,\n",
    "    \"namespace\" : NAMESPACE,\n",
    "    \"deploy\" : DEPLOY_NAME\n",
    "}"
   ]
  },
  {
   "cell_type": "markdown",
   "metadata": {},
   "source": [
    "## Click on Run Details for navigating to pipeline"
   ]
  },
  {
   "cell_type": "code",
   "execution_count": 42,
   "metadata": {
    "scrolled": true
   },
   "outputs": [
    {
     "data": {
      "text/html": [
       "<a href=\"http://localhost:8080/pipeline/#/runs/details/2717ff9e-fcf2-4503-97a7-a11fa71b9be8\" target=\"_blank\" >Run details</a>."
      ],
      "text/plain": [
       "<IPython.core.display.HTML object>"
      ]
     },
     "metadata": {},
     "output_type": "display_data"
    }
   ],
   "source": [
    "run_name = 'pytorch-bert'\n",
    "# Execute pipeline\n",
    "run = client.run_pipeline(my_experiment.id, run_name, \"pytorch_bert.yaml\", pipeline_params)"
   ]
  },
  {
   "cell_type": "code",
   "execution_count": 61,
   "metadata": {},
   "outputs": [
    {
     "data": {
      "text/plain": [
       "'bertserve.kubeflow-user-example-com.example.com'"
      ]
     },
     "execution_count": 61,
     "metadata": {},
     "output_type": "execute_result"
    }
   ],
   "source": [
    "INFERENCE_SERVICE_LIST = ! kubectl get isvc $DEPLOY_NAME -n kubeflow-user-example-com -o json | jq .status.url | tr -d '\"'| cut -d \"/\" -f 3\n",
    "INFERENCE_SERVICE_NAME = INFERENCE_SERVICE_LIST[0]\n",
    "INFERENCE_SERVICE_NAME"
   ]
  },
  {
   "cell_type": "code",
   "execution_count": 63,
   "metadata": {
    "scrolled": true
   },
   "outputs": [
    {
     "name": "stdout",
     "output_type": "stream",
     "text": [
      "  % Total    % Received % Xferd  Average Speed   Time    Time     Time  Current\n",
      "                                 Dload  Upload   Total   Spent    Left  Speed\n",
      "  0     0    0     0    0     0      0      0 --:--:-- --:--:-- --:--:--     0*   Trying 127.0.0.1:8080...\n",
      "* TCP_NODELAY set\n",
      "* Connected to localhost (127.0.0.1) port 8080 (#0)\n",
      "> POST /v1/models/bert:predict HTTP/1.1\n",
      "> Host: bertserve.kubeflow-user-example-com.example.com\n",
      "> User-Agent: curl/7.68.0\n",
      "> Accept: */*\n",
      "> Cookie: authservice_session=MTYyMTIzNTI4M3xOd3dBTkVaVVNGUTNSMVJIVFZVM1NsTTJWVm8zUlZOTlFVOU9Na2N6V1VzeVZVeFFOazgwV0U1SVFsSldURXBVVjBGWVVVYzJXVkU9fDruba4Uy-aLX2gbaxSW4OWIDQhcsvCKYdfCjZWw0I4o\n",
      "> Content-Length: 84\n",
      "> Content-Type: application/x-www-form-urlencoded\n",
      "> \n",
      "} [84 bytes data]\n",
      "* upload completely sent off: 84 out of 84 bytes\n",
      "100    84    0     0  100    84      0     69  0:00:01  0:00:01 --:--:--    69* Mark bundle as not supporting multiuse\n",
      "< HTTP/1.1 200 OK\n",
      "< content-length: 33\n",
      "< content-type: application/json; charset=UTF-8\n",
      "< date: Mon, 17 May 2021 16:03:20 GMT\n",
      "< server: istio-envoy\n",
      "< x-envoy-upstream-service-time: 620\n",
      "< \n",
      "{ [33 bytes data]\n",
      "100   117  100    33  100    84     20     52  0:00:01  0:00:01 --:--:--    73\n",
      "* Connection #0 to host localhost left intact\n"
     ]
    }
   ],
   "source": [
    "!curl -v -H \"Host: $INFERENCE_SERVICE_NAME\" -H \"Cookie: $AUTH\" \"$KFP_URL/v1/models/$MODEL_NAME:predict\" -d @./examples/bert/sample.txt > ./bert_prediction_output.json"
   ]
  },
  {
   "cell_type": "code",
   "execution_count": 64,
   "metadata": {},
   "outputs": [
    {
     "name": "stdout",
     "output_type": "stream",
     "text": [
      "{\"predictions\": [\"\\\"Sci/Tech\\\"\"]}"
     ]
    }
   ],
   "source": [
    "! cat ./bert_prediction_output.json"
   ]
  },
  {
   "cell_type": "code",
   "execution_count": 66,
   "metadata": {
    "scrolled": true
   },
   "outputs": [
    {
     "name": "stdout",
     "output_type": "stream",
     "text": [
      "  % Total    % Received % Xferd  Average Speed   Time    Time     Time  Current\n",
      "                                 Dload  Upload   Total   Spent    Left  Speed\n",
      "  0     0    0     0    0     0      0      0 --:--:-- --:--:-- --:--:--     0*   Trying 127.0.0.1:8080...\n",
      "* TCP_NODELAY set\n",
      "* Connected to localhost (127.0.0.1) port 8080 (#0)\n",
      "> POST /v1/models/bert:explain HTTP/1.1\n",
      "> Host: bertserve.kubeflow-user-example-com.example.com\n",
      "> User-Agent: curl/7.68.0\n",
      "> Accept: */*\n",
      "> Cookie: authservice_session=MTYyMTIzNTI4M3xOd3dBTkVaVVNGUTNSMVJIVFZVM1NsTTJWVm8zUlZOTlFVOU9Na2N6V1VzeVZVeFFOazgwV0U1SVFsSldURXBVVjBGWVVVYzJXVkU9fDruba4Uy-aLX2gbaxSW4OWIDQhcsvCKYdfCjZWw0I4o\n",
      "> Content-Length: 84\n",
      "> Content-Type: application/x-www-form-urlencoded\n",
      "> \n",
      "} [84 bytes data]\n",
      "* upload completely sent off: 84 out of 84 bytes\n",
      "100    84    0     0  100    84      0      1  0:01:24  0:00:48  0:00:36     0* Mark bundle as not supporting multiuse\n",
      "< HTTP/1.1 200 OK\n",
      "< content-length: 319\n",
      "< content-type: application/json; charset=UTF-8\n",
      "< date: Mon, 17 May 2021 16:03:30 GMT\n",
      "< server: istio-envoy\n",
      "< x-envoy-upstream-service-time: 47490\n",
      "< \n",
      "{ [319 bytes data]\n",
      "100   403  100   319  100    84      6      1  0:01:24  0:00:48  0:00:36    77\n",
      "* Connection #0 to host localhost left intact\n"
     ]
    }
   ],
   "source": [
    "!curl -v -H \"Host: $INFERENCE_SERVICE_NAME\" -H \"Cookie: $AUTH\" \"$KFP_URL/v1/models/$MODEL_NAME:explain\" -d @./examples/bert/sample.txt  > bert_explaination_output.json"
   ]
  },
  {
   "cell_type": "code",
   "execution_count": 67,
   "metadata": {},
   "outputs": [
    {
     "name": "stdout",
     "output_type": "stream",
     "text": [
      "{\"explanations\": [{\"words\": [\"[CLS]\", \"bloomberg\", \"has\", \"reported\", \"on\", \"the\", \"economy\", \"[SEP]\"], \"importances\": [0.49803317807827413, -0.04228915625436579, -0.22691037181108395, 0.15573719339552444, 0.08677259891698845, 0.1791962203959244, 0.525546079847318, -0.5988261343532961], \"delta\": 0.12081549835977756}]}"
     ]
    }
   ],
   "source": [
    "! cat bert_explaination_output.json"
   ]
  },
  {
   "cell_type": "code",
   "execution_count": 68,
   "metadata": {},
   "outputs": [
    {
     "data": {
      "text/plain": [
       "{'explanations': [{'words': ['[CLS]',\n",
       "    'bloomberg',\n",
       "    'has',\n",
       "    'reported',\n",
       "    'on',\n",
       "    'the',\n",
       "    'economy',\n",
       "    '[SEP]'],\n",
       "   'importances': [0.49803317807827413,\n",
       "    -0.04228915625436579,\n",
       "    -0.22691037181108395,\n",
       "    0.15573719339552444,\n",
       "    0.08677259891698845,\n",
       "    0.1791962203959244,\n",
       "    0.525546079847318,\n",
       "    -0.5988261343532961],\n",
       "   'delta': 0.12081549835977756}]}"
      ]
     },
     "execution_count": 68,
     "metadata": {},
     "output_type": "execute_result"
    }
   ],
   "source": [
    "import json\n",
    "explanations_json = json.loads(open(\"./bert_explaination_output.json\", \"r\").read())\n",
    "explanations_json"
   ]
  },
  {
   "cell_type": "code",
   "execution_count": 69,
   "metadata": {},
   "outputs": [],
   "source": [
    "prediction_json = json.loads(open(\"./bert_prediction_output.json\", \"r\").read())"
   ]
  },
  {
   "cell_type": "code",
   "execution_count": 70,
   "metadata": {},
   "outputs": [],
   "source": [
    "import torch\n",
    "attributions = explanations_json[\"explanations\"][0]['importances']\n",
    "tokens = explanations_json[\"explanations\"][0]['words']\n",
    "delta = explanations_json[\"explanations\"][0]['delta']\n",
    "\n",
    "attributions = torch.tensor(attributions)\n",
    "pred_prob = 0.75\n",
    "pred_class = prediction_json[\"predictions\"][0]\n",
    "true_class = \"Business\"\n",
    "attr_class =\"world\""
   ]
  },
  {
   "cell_type": "code",
   "execution_count": 71,
   "metadata": {},
   "outputs": [],
   "source": [
    "from captum.attr import visualization\n",
    "vis_data_records =[]\n",
    "vis_data_records.append(visualization.VisualizationDataRecord(\n",
    "                            attributions,\n",
    "                            pred_prob,\n",
    "                            pred_class,\n",
    "                            true_class,\n",
    "                            attr_class,\n",
    "                            attributions.sum(),       \n",
    "                            tokens,\n",
    "                            delta))"
   ]
  },
  {
   "cell_type": "code",
   "execution_count": 72,
   "metadata": {},
   "outputs": [
    {
     "data": {
      "text/html": [
       "<table width: 100%><div style=\"border-top: 1px solid; margin-top: 5px;             padding-top: 5px; display: inline-block\"><b>Legend: </b><span style=\"display: inline-block; width: 10px; height: 10px;                 border: 1px solid; background-color:                 hsl(0, 75%, 60%)\"></span> Negative  <span style=\"display: inline-block; width: 10px; height: 10px;                 border: 1px solid; background-color:                 hsl(0, 75%, 100%)\"></span> Neutral  <span style=\"display: inline-block; width: 10px; height: 10px;                 border: 1px solid; background-color:                 hsl(120, 75%, 50%)\"></span> Positive  </div><tr><th>True Label</th><th>Predicted Label</th><th>Attribution Label</th><th>Attribution Score</th><th>Word Importance</th><tr><td><text style=\"padding-right:2em\"><b>Business</b></text></td><td><text style=\"padding-right:2em\"><b>\"Sci/Tech\" (0.75)</b></text></td><td><text style=\"padding-right:2em\"><b>world</b></text></td><td><text style=\"padding-right:2em\"><b>0.58</b></text></td><td><mark style=\"background-color: hsl(120, 75%, 76%); opacity:1.0;                     line-height:1.75\"><font color=\"black\"> [CLS]                    </font></mark><mark style=\"background-color: hsl(0, 75%, 99%); opacity:1.0;                     line-height:1.75\"><font color=\"black\"> bloomberg                    </font></mark><mark style=\"background-color: hsl(0, 75%, 91%); opacity:1.0;                     line-height:1.75\"><font color=\"black\"> has                    </font></mark><mark style=\"background-color: hsl(120, 75%, 93%); opacity:1.0;                     line-height:1.75\"><font color=\"black\"> reported                    </font></mark><mark style=\"background-color: hsl(120, 75%, 96%); opacity:1.0;                     line-height:1.75\"><font color=\"black\"> on                    </font></mark><mark style=\"background-color: hsl(120, 75%, 92%); opacity:1.0;                     line-height:1.75\"><font color=\"black\"> the                    </font></mark><mark style=\"background-color: hsl(120, 75%, 74%); opacity:1.0;                     line-height:1.75\"><font color=\"black\"> economy                    </font></mark><mark style=\"background-color: hsl(0, 75%, 77%); opacity:1.0;                     line-height:1.75\"><font color=\"black\"> [SEP]                    </font></mark></td><tr></table>"
      ],
      "text/plain": [
       "<IPython.core.display.HTML object>"
      ]
     },
     "metadata": {},
     "output_type": "display_data"
    },
    {
     "data": {
      "text/html": [
       "<table width: 100%><div style=\"border-top: 1px solid; margin-top: 5px;             padding-top: 5px; display: inline-block\"><b>Legend: </b><span style=\"display: inline-block; width: 10px; height: 10px;                 border: 1px solid; background-color:                 hsl(0, 75%, 60%)\"></span> Negative  <span style=\"display: inline-block; width: 10px; height: 10px;                 border: 1px solid; background-color:                 hsl(0, 75%, 100%)\"></span> Neutral  <span style=\"display: inline-block; width: 10px; height: 10px;                 border: 1px solid; background-color:                 hsl(120, 75%, 50%)\"></span> Positive  </div><tr><th>True Label</th><th>Predicted Label</th><th>Attribution Label</th><th>Attribution Score</th><th>Word Importance</th><tr><td><text style=\"padding-right:2em\"><b>Business</b></text></td><td><text style=\"padding-right:2em\"><b>\"Sci/Tech\" (0.75)</b></text></td><td><text style=\"padding-right:2em\"><b>world</b></text></td><td><text style=\"padding-right:2em\"><b>0.58</b></text></td><td><mark style=\"background-color: hsl(120, 75%, 76%); opacity:1.0;                     line-height:1.75\"><font color=\"black\"> [CLS]                    </font></mark><mark style=\"background-color: hsl(0, 75%, 99%); opacity:1.0;                     line-height:1.75\"><font color=\"black\"> bloomberg                    </font></mark><mark style=\"background-color: hsl(0, 75%, 91%); opacity:1.0;                     line-height:1.75\"><font color=\"black\"> has                    </font></mark><mark style=\"background-color: hsl(120, 75%, 93%); opacity:1.0;                     line-height:1.75\"><font color=\"black\"> reported                    </font></mark><mark style=\"background-color: hsl(120, 75%, 96%); opacity:1.0;                     line-height:1.75\"><font color=\"black\"> on                    </font></mark><mark style=\"background-color: hsl(120, 75%, 92%); opacity:1.0;                     line-height:1.75\"><font color=\"black\"> the                    </font></mark><mark style=\"background-color: hsl(120, 75%, 74%); opacity:1.0;                     line-height:1.75\"><font color=\"black\"> economy                    </font></mark><mark style=\"background-color: hsl(0, 75%, 77%); opacity:1.0;                     line-height:1.75\"><font color=\"black\"> [SEP]                    </font></mark></td><tr></table>"
      ],
      "text/plain": [
       "<IPython.core.display.HTML object>"
      ]
     },
     "execution_count": 72,
     "metadata": {},
     "output_type": "execute_result"
    }
   ],
   "source": [
    "visualization.visualize_text(vis_data_records)"
   ]
  },
  {
   "cell_type": "markdown",
   "metadata": {},
   "source": [
    "## Clean up\n",
    "### Delete Viewers, Inference Services and Completed pods"
   ]
  },
  {
   "cell_type": "code",
   "execution_count": 76,
   "metadata": {},
   "outputs": [
    {
     "name": "stdout",
     "output_type": "stream",
     "text": [
      "No resources found\r\n"
     ]
    }
   ],
   "source": [
    "! kubectl delete --all viewers -n $NAMESPACE"
   ]
  },
  {
   "cell_type": "code",
   "execution_count": 77,
   "metadata": {},
   "outputs": [
    {
     "name": "stdout",
     "output_type": "stream",
     "text": [
      "No resources found\r\n"
     ]
    }
   ],
   "source": [
    "! kubectl delete --all isvc -n $NAMESPACE"
   ]
  },
  {
   "cell_type": "code",
   "execution_count": 79,
   "metadata": {},
   "outputs": [
    {
     "name": "stdout",
     "output_type": "stream",
     "text": [
      "pod \"training-cifar10-pipeline-5bhd6-1573205651\" deleted\n",
      "pod \"training-cifar10-pipeline-5bhd6-1635100289\" deleted\n",
      "pod \"training-cifar10-pipeline-5bhd6-194001615\" deleted\n",
      "pod \"training-cifar10-pipeline-5bhd6-2944889683\" deleted\n",
      "pod \"training-cifar10-pipeline-5bhd6-3662620107\" deleted\n",
      "pod \"training-cifar10-pipeline-5bhd6-561387000\" deleted\n",
      "pod \"training-cifar10-pipeline-5bhd6-578164619\" deleted\n",
      "pod \"training-cifar10-pipeline-5bhd6-64870028\" deleted\n",
      "pod \"training-cifar10-pipeline-5bhd6-880732434\" deleted\n",
      "pod \"training-cifar10-pipeline-bhfff-1271208604\" deleted\n",
      "pod \"training-cifar10-pipeline-bhfff-1632598042\" deleted\n",
      "pod \"training-cifar10-pipeline-bhfff-3073722874\" deleted\n",
      "pod \"training-cifar10-pipeline-bhfff-3848211398\" deleted\n",
      "pod \"training-cifar10-pipeline-bhfff-4236739931\" deleted\n",
      "pod \"training-cifar10-pipeline-bhfff-713004902\" deleted\n",
      "pod \"training-cifar10-pipeline-bhfff-729782521\" deleted\n",
      "pod \"training-cifar10-pipeline-cnjr4-1187938860\" deleted\n",
      "pod \"training-cifar10-pipeline-cnjr4-1204716479\" deleted\n",
      "pod \"training-cifar10-pipeline-cnjr4-1676652822\" deleted\n",
      "pod \"training-cifar10-pipeline-cnjr4-3040981759\" deleted\n",
      "pod \"training-cifar10-pipeline-cnjr4-3693876063\" deleted\n",
      "pod \"training-cifar10-pipeline-cnjr4-3756495723\" deleted\n",
      "pod \"training-cifar10-pipeline-cnjr4-3797287167\" deleted\n",
      "pod \"training-cifar10-pipeline-cnjr4-3867499981\" deleted\n",
      "pod \"training-cifar10-pipeline-cnjr4-667247232\" deleted\n",
      "pod \"training-cifar10-pipeline-m45hl-1492506811\" deleted\n",
      "pod \"training-cifar10-pipeline-m45hl-2683347270\" deleted\n",
      "pod \"training-cifar10-pipeline-m45hl-2700124889\" deleted\n",
      "pod \"training-cifar10-pipeline-m45hl-3172983036\" deleted\n",
      "pod \"training-cifar10-pipeline-m45hl-3246263184\" deleted\n",
      "pod \"training-cifar10-pipeline-m45hl-3412886778\" deleted\n",
      "pod \"training-cifar10-pipeline-m45hl-4039094234\" deleted\n",
      "pod \"training-cifar10-pipeline-m45hl-663767323\" deleted\n",
      "pod \"training-cifar10-pipeline-m45hl-836412454\" deleted\n",
      "pod \"training-cifar10-pipeline-nntf9-2350254501\" deleted\n",
      "pod \"training-cifar10-pipeline-nntf9-2600613409\" deleted\n",
      "pod \"training-cifar10-pipeline-nntf9-3253970549\" deleted\n",
      "pod \"training-cifar10-pipeline-nntf9-3421744376\" deleted\n",
      "pod \"training-cifar10-pipeline-nntf9-3944255339\" deleted\n",
      "pod \"training-cifar10-pipeline-nntf9-954562766\" deleted\n",
      "pod \"training-cifar10-pipeline-nntf9-971340385\" deleted\n",
      "pod \"training-cifar10-pipeline-wc6bl-1188231308\" deleted\n",
      "pod \"training-cifar10-pipeline-wc6bl-2112661976\" deleted\n",
      "pod \"training-cifar10-pipeline-wc6bl-2445792020\" deleted\n",
      "pod \"training-cifar10-pipeline-wc6bl-3987702965\" deleted\n",
      "pod \"training-pipeline-9pbh9-1498611125\" deleted\n",
      "pod \"training-pipeline-9pbh9-2235197957\" deleted\n",
      "pod \"training-pipeline-9pbh9-2267539560\" deleted\n",
      "pod \"training-pipeline-9pbh9-299651582\" deleted\n",
      "pod \"training-pipeline-9pbh9-316429201\" deleted\n",
      "pod \"training-pipeline-9pbh9-3932148539\" deleted\n",
      "pod \"training-pipeline-fnk9z-3028036254\" deleted\n",
      "pod \"training-pipeline-fnk9z-3044813873\" deleted\n",
      "pod \"training-pipeline-fnk9z-3121677093\" deleted\n",
      "pod \"training-pipeline-fnk9z-3155606920\" deleted\n",
      "pod \"training-pipeline-fnk9z-607609301\" deleted\n",
      "pod \"training-pipeline-ftktq-1895256393\" deleted\n",
      "pod \"training-pipeline-ftktq-2044780755\" deleted\n",
      "pod \"training-pipeline-ftktq-3436508811\" deleted\n",
      "pod \"training-pipeline-ftktq-376046282\" deleted\n",
      "pod \"training-pipeline-ftktq-4076920743\" deleted\n",
      "pod \"training-pipeline-ftktq-540040224\" deleted\n",
      "pod \"training-pipeline-ftktq-556817843\" deleted\n",
      "pod \"training-pipeline-gbjv7-1651848834\" deleted\n",
      "pod \"training-pipeline-gbjv7-1668626453\" deleted\n",
      "pod \"training-pipeline-gbjv7-1794571585\" deleted\n",
      "pod \"training-pipeline-gbjv7-2099972469\" deleted\n",
      "pod \"training-pipeline-gbjv7-2965220844\" deleted\n",
      "pod \"training-pipeline-gbjv7-3623073729\" deleted\n",
      "pod \"training-pipeline-gbjv7-844604247\" deleted\n",
      "pod \"training-pipeline-hmwcr-1691271640\" deleted\n",
      "pod \"training-pipeline-hmwcr-2200404065\" deleted\n",
      "pod \"training-pipeline-hmwcr-2955293076\" deleted\n",
      "pod \"training-pipeline-hmwcr-2972070695\" deleted\n",
      "pod \"training-pipeline-hmwcr-3381022360\" deleted\n",
      "pod \"training-pipeline-thrqd-3755560423\" deleted\n",
      "pod \"training-pipeline-xk59n-1752873736\" deleted\n",
      "pod \"training-pipeline-xk59n-3182030879\" deleted\n",
      "pod \"training-pipeline-xk59n-3784247756\" deleted\n",
      "pod \"training-pipeline-xk59n-3930399686\" deleted\n",
      "pod \"training-pipeline-xk59n-4294575487\" deleted\n",
      "pod \"training-pipeline-xk59n-47138158\" deleted\n",
      "pod \"training-pipeline-xk59n-489397338\" deleted\n",
      "pod \"training-pipeline-xk59n-506174957\" deleted\n",
      "pod \"training-pipeline-xk59n-815663282\" deleted\n"
     ]
    }
   ],
   "source": [
    "! kubectl delete pod --field-selector=status.phase==Succeeded -n $NAMESPACE"
   ]
  },
  {
   "cell_type": "code",
   "execution_count": null,
   "metadata": {},
   "outputs": [],
   "source": []
  }
 ],
 "metadata": {
  "kernelspec": {
   "display_name": "Python 3",
   "language": "python",
   "name": "python3"
  },
  "language_info": {
   "codemirror_mode": {
    "name": "ipython",
    "version": 3
   },
   "file_extension": ".py",
   "mimetype": "text/x-python",
   "name": "python",
   "nbconvert_exporter": "python",
   "pygments_lexer": "ipython3",
   "version": "3.8.5"
  }
 },
 "nbformat": 4,
 "nbformat_minor": 4
}
