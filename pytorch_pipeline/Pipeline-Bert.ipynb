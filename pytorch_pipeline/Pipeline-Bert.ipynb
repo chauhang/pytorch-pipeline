{
 "cells": [
  {
   "cell_type": "markdown",
   "metadata": {},
   "source": [
    "# Load packages"
   ]
  },
  {
   "cell_type": "code",
   "execution_count": 1,
   "metadata": {
    "tags": []
   },
   "outputs": [
    {
     "name": "stdout",
     "output_type": "stream",
     "text": [
      "Found existing installation: kfp 1.4.0\n",
      "Uninstalling kfp-1.4.0:\n",
      "  Successfully uninstalled kfp-1.4.0\n",
      "Collecting kfp\n",
      "  Using cached kfp-1.4.0-py3-none-any.whl\n",
      "Requirement already satisfied: google-auth>=1.6.1 in /opt/conda/lib/python3.8/site-packages (from kfp) (1.28.1)\n",
      "Requirement already satisfied: jsonschema>=3.0.1 in /opt/conda/lib/python3.8/site-packages (from kfp) (3.2.0)\n",
      "Requirement already satisfied: requests-toolbelt>=0.8.0 in /opt/conda/lib/python3.8/site-packages (from kfp) (0.9.1)\n",
      "Requirement already satisfied: Deprecated in /opt/conda/lib/python3.8/site-packages (from kfp) (1.2.12)\n",
      "Requirement already satisfied: kfp-server-api<2.0.0,>=1.1.2 in /opt/conda/lib/python3.8/site-packages (from kfp) (1.5.0)\n",
      "Requirement already satisfied: cloudpickle in /opt/conda/lib/python3.8/site-packages (from kfp) (1.6.0)\n",
      "Requirement already satisfied: strip-hints in /opt/conda/lib/python3.8/site-packages (from kfp) (0.1.9)\n",
      "Requirement already satisfied: fire>=0.3.1 in /opt/conda/lib/python3.8/site-packages (from kfp) (0.4.0)\n",
      "Requirement already satisfied: tabulate in /opt/conda/lib/python3.8/site-packages (from kfp) (0.8.9)\n",
      "Requirement already satisfied: click in /opt/conda/lib/python3.8/site-packages (from kfp) (7.1.2)\n",
      "Requirement already satisfied: PyYAML>=5.3 in /opt/conda/lib/python3.8/site-packages (from kfp) (5.4.1)\n",
      "Requirement already satisfied: docstring-parser>=0.7.3 in /opt/conda/lib/python3.8/site-packages (from kfp) (0.7.3)\n",
      "Requirement already satisfied: kfp-pipeline-spec<0.2.0,>=0.1.0 in /opt/conda/lib/python3.8/site-packages (from kfp) (0.1.7)\n",
      "Requirement already satisfied: google-cloud-storage>=1.13.0 in /opt/conda/lib/python3.8/site-packages (from kfp) (1.37.1)\n",
      "Requirement already satisfied: kubernetes<12.0.0,>=8.0.0 in /opt/conda/lib/python3.8/site-packages (from kfp) (10.0.1)\n",
      "Requirement already satisfied: termcolor in /opt/conda/lib/python3.8/site-packages (from fire>=0.3.1->kfp) (1.1.0)\n",
      "Requirement already satisfied: six in /opt/conda/lib/python3.8/site-packages (from fire>=0.3.1->kfp) (1.15.0)\n",
      "Requirement already satisfied: pyasn1-modules>=0.2.1 in /opt/conda/lib/python3.8/site-packages (from google-auth>=1.6.1->kfp) (0.2.8)\n",
      "Requirement already satisfied: setuptools>=40.3.0 in /opt/conda/lib/python3.8/site-packages (from google-auth>=1.6.1->kfp) (49.6.0.post20210108)\n",
      "Requirement already satisfied: cachetools<5.0,>=2.0.0 in /opt/conda/lib/python3.8/site-packages (from google-auth>=1.6.1->kfp) (4.2.1)\n",
      "Requirement already satisfied: rsa<5,>=3.1.4 in /opt/conda/lib/python3.8/site-packages (from google-auth>=1.6.1->kfp) (4.7.2)\n",
      "Requirement already satisfied: google-resumable-media<2.0dev,>=1.2.0 in /opt/conda/lib/python3.8/site-packages (from google-cloud-storage>=1.13.0->kfp) (1.2.0)\n",
      "Requirement already satisfied: google-cloud-core<2.0dev,>=1.4.1 in /opt/conda/lib/python3.8/site-packages (from google-cloud-storage>=1.13.0->kfp) (1.6.0)\n",
      "Requirement already satisfied: requests<3.0.0dev,>=2.18.0 in /opt/conda/lib/python3.8/site-packages (from google-cloud-storage>=1.13.0->kfp) (2.25.1)\n",
      "Requirement already satisfied: google-api-core<2.0.0dev,>=1.21.0 in /opt/conda/lib/python3.8/site-packages (from google-cloud-core<2.0dev,>=1.4.1->google-cloud-storage>=1.13.0->kfp) (1.26.3)\n",
      "Requirement already satisfied: packaging>=14.3 in /opt/conda/lib/python3.8/site-packages (from google-api-core<2.0.0dev,>=1.21.0->google-cloud-core<2.0dev,>=1.4.1->google-cloud-storage>=1.13.0->kfp) (20.9)\n",
      "Requirement already satisfied: protobuf>=3.12.0 in /opt/conda/lib/python3.8/site-packages (from google-api-core<2.0.0dev,>=1.21.0->google-cloud-core<2.0dev,>=1.4.1->google-cloud-storage>=1.13.0->kfp) (3.15.7)\n",
      "Requirement already satisfied: googleapis-common-protos<2.0dev,>=1.6.0 in /opt/conda/lib/python3.8/site-packages (from google-api-core<2.0.0dev,>=1.21.0->google-cloud-core<2.0dev,>=1.4.1->google-cloud-storage>=1.13.0->kfp) (1.53.0)\n",
      "Requirement already satisfied: pytz in /opt/conda/lib/python3.8/site-packages (from google-api-core<2.0.0dev,>=1.21.0->google-cloud-core<2.0dev,>=1.4.1->google-cloud-storage>=1.13.0->kfp) (2021.1)\n",
      "Requirement already satisfied: google-crc32c<2.0dev,>=1.0 in /opt/conda/lib/python3.8/site-packages (from google-resumable-media<2.0dev,>=1.2.0->google-cloud-storage>=1.13.0->kfp) (1.1.2)\n",
      "Requirement already satisfied: cffi>=1.0.0 in /opt/conda/lib/python3.8/site-packages (from google-crc32c<2.0dev,>=1.0->google-resumable-media<2.0dev,>=1.2.0->google-cloud-storage>=1.13.0->kfp) (1.14.5)\n",
      "Requirement already satisfied: pycparser in /opt/conda/lib/python3.8/site-packages (from cffi>=1.0.0->google-crc32c<2.0dev,>=1.0->google-resumable-media<2.0dev,>=1.2.0->google-cloud-storage>=1.13.0->kfp) (2.20)\n",
      "Requirement already satisfied: attrs>=17.4.0 in /opt/conda/lib/python3.8/site-packages (from jsonschema>=3.0.1->kfp) (20.3.0)\n",
      "Requirement already satisfied: pyrsistent>=0.14.0 in /opt/conda/lib/python3.8/site-packages (from jsonschema>=3.0.1->kfp) (0.17.3)\n",
      "Requirement already satisfied: certifi in /opt/conda/lib/python3.8/site-packages (from kfp-server-api<2.0.0,>=1.1.2->kfp) (2020.12.5)\n",
      "Requirement already satisfied: python-dateutil in /opt/conda/lib/python3.8/site-packages (from kfp-server-api<2.0.0,>=1.1.2->kfp) (2.8.1)\n",
      "Requirement already satisfied: urllib3>=1.15 in /opt/conda/lib/python3.8/site-packages (from kfp-server-api<2.0.0,>=1.1.2->kfp) (1.26.4)\n",
      "Requirement already satisfied: websocket-client!=0.40.0,!=0.41.*,!=0.42.*,>=0.32.0 in /opt/conda/lib/python3.8/site-packages (from kubernetes<12.0.0,>=8.0.0->kfp) (0.58.0)\n",
      "Requirement already satisfied: requests-oauthlib in /opt/conda/lib/python3.8/site-packages (from kubernetes<12.0.0,>=8.0.0->kfp) (1.3.0)\n",
      "Requirement already satisfied: pyparsing>=2.0.2 in /opt/conda/lib/python3.8/site-packages (from packaging>=14.3->google-api-core<2.0.0dev,>=1.21.0->google-cloud-core<2.0dev,>=1.4.1->google-cloud-storage>=1.13.0->kfp) (2.4.7)\n",
      "Requirement already satisfied: pyasn1<0.5.0,>=0.4.6 in /opt/conda/lib/python3.8/site-packages (from pyasn1-modules>=0.2.1->google-auth>=1.6.1->kfp) (0.4.8)\n",
      "Requirement already satisfied: idna<3,>=2.5 in /opt/conda/lib/python3.8/site-packages (from requests<3.0.0dev,>=2.18.0->google-cloud-storage>=1.13.0->kfp) (2.10)\n",
      "Requirement already satisfied: chardet<5,>=3.0.2 in /opt/conda/lib/python3.8/site-packages (from requests<3.0.0dev,>=2.18.0->google-cloud-storage>=1.13.0->kfp) (4.0.0)\n",
      "Requirement already satisfied: wrapt<2,>=1.10 in /opt/conda/lib/python3.8/site-packages (from Deprecated->kfp) (1.12.1)\n",
      "Requirement already satisfied: oauthlib>=3.0.0 in /opt/conda/lib/python3.8/site-packages (from requests-oauthlib->kubernetes<12.0.0,>=8.0.0->kfp) (3.1.0)\n",
      "Requirement already satisfied: wheel in /opt/conda/lib/python3.8/site-packages (from strip-hints->kfp) (0.36.2)\n",
      "Installing collected packages: kfp\n",
      "Successfully installed kfp-1.4.0\n"
     ]
    }
   ],
   "source": [
    "!pip uninstall -y kfp\n",
    "!pip install kfp"
   ]
  },
  {
   "cell_type": "code",
   "execution_count": 2,
   "metadata": {},
   "outputs": [
    {
     "data": {
      "text/plain": [
       "'1.4.0'"
      ]
     },
     "execution_count": 2,
     "metadata": {},
     "output_type": "execute_result"
    }
   ],
   "source": [
    "import kfp\n",
    "import json\n",
    "import os\n",
    "from kfp import components\n",
    "from kfp.components import load_component_from_file, load_component_from_url\n",
    "from kfp import dsl\n",
    "from kfp import compiler\n",
    "from pathlib import Path\n",
    "\n",
    "kfp.__version__"
   ]
  },
  {
   "cell_type": "markdown",
   "metadata": {},
   "source": [
    "# Enter your gateway loadbalancer and the token from the cookie\n",
    "[Use this extension on chrome to get token]( https://chrome.google.com/webstore/detail/editthiscookie/fngmhnnpilhplaeedifhccceomclgfbg?hl=en)\n",
    "\n",
    "![image.png](./image.png)"
   ]
  },
  {
   "cell_type": "code",
   "execution_count": 3,
   "metadata": {},
   "outputs": [],
   "source": [
    "#Update values for the load balancer and auth session\n",
    "HOST='istio-ingressgateway.istio-system.svc.cluster.local'\n",
    "AUTH=\"authservice_session=MTYyMDMxNjgzMHxOd3dBTkZSQldVcEZSVVJUTkRaWlZGWkVVRU5YUjFsTVRGRkZURU5hV1Znek5WUlVWVUUzV0RWRk5WWkdVbFpLTWtwVFJUWmFUMUU9fHBYwVCYxqRB5nYnc6qypZYmZBB63tgI6ul1IJGcuerh\"\n",
    "namespace=\"kubeflow-user-example-com\""
   ]
  },
  {
   "cell_type": "code",
   "execution_count": 4,
   "metadata": {},
   "outputs": [
    {
     "data": {
      "text/plain": [
       "{'created_at': datetime.datetime(2021, 4, 22, 8, 44, 39, tzinfo=tzlocal()),\n",
       " 'description': None,\n",
       " 'id': 'aac96a63-616e-4d88-9334-6ca8df2bb956',\n",
       " 'name': 'Default',\n",
       " 'resource_references': [{'key': {'id': 'kubeflow-user-example-com',\n",
       "                                  'type': 'NAMESPACE'},\n",
       "                          'name': None,\n",
       "                          'relationship': 'OWNER'}],\n",
       " 'storage_state': 'STORAGESTATE_AVAILABLE'}"
      ]
     },
     "execution_count": 4,
     "metadata": {},
     "output_type": "execute_result"
    }
   ],
   "source": [
    "client = kfp.Client(host=HOST+\"/pipeline\", cookies=AUTH)\n",
    "experiments = client.list_experiments(namespace=namespace)\n",
    "my_experiment = experiments.experiments[0]\n",
    "my_experiment"
   ]
  },
  {
   "cell_type": "markdown",
   "metadata": {},
   "source": [
    "### Using dsl for model archiver and torchserve integration\n",
    "#### Init container is used for mar file generation"
   ]
  },
  {
   "cell_type": "code",
   "execution_count": 5,
   "metadata": {},
   "outputs": [],
   "source": [
    "DEPLOY=\"bertserve\"\n",
    "MODEL=\"bert\""
   ]
  },
  {
   "cell_type": "code",
   "execution_count": 6,
   "metadata": {},
   "outputs": [],
   "source": [
    "prepare_tensorboard_op = load_component_from_file(\"./examples/bert/yaml/tensorboard/component.yaml\")\n",
    "prep_op = components.load_component_from_file(\n",
    "    \"./examples/bert/yaml/pre_process/component.yaml\"\n",
    ")\n",
    "train_op = components.load_component_from_file(\n",
    "    \"./examples/bert/yaml/train/component.yaml\"\n",
    ")\n",
    "deploy_op = load_component_from_file(\"./examples/bert/yaml/deploy/component.yaml\")"
   ]
  },
  {
   "cell_type": "code",
   "execution_count": 7,
   "metadata": {},
   "outputs": [],
   "source": [
    "minio_op = components.load_component_from_file(\n",
    "    \"./examples/bert/yaml/minio/component.yaml\"\n",
    ")"
   ]
  },
  {
   "cell_type": "code",
   "execution_count": 8,
   "metadata": {},
   "outputs": [],
   "source": [
    "@dsl.pipeline(name=\"Training pipeline\", description=\"Sample training job test\")\n",
    "def pytorch_bert(minio_endpoint='minio-service.kubeflow:9000',\n",
    "    log_bucket='mlpipeline',\n",
    "    log_dir=f'tensorboard/logs/{dsl.RUN_ID_PLACEHOLDER}',\n",
    "    mar_path=f'mar/{dsl.RUN_ID_PLACEHOLDER}/model-store',\n",
    "    config_prop_path=f'mar/{dsl.RUN_ID_PLACEHOLDER}/config',\n",
    "    model_uri = f's3://mlpipeline/mar/{dsl.RUN_ID_PLACEHOLDER}',\n",
    "    tf_image='jagadeeshj/tb_pluign:v1.8'):\n",
    "\n",
    "    @dsl.component\n",
    "    def ls(input_dir: str):\n",
    "        return dsl.ContainerOp(\n",
    "            name='list',\n",
    "            image='busybox:latest',\n",
    "            command=[\"ls\", \"-R\", \"%s\" % input_dir]\n",
    "        )\n",
    "    \n",
    "    prepare_tb_task = prepare_tensorboard_op(\n",
    "        log_dir_uri=f's3://{log_bucket}/{log_dir}',\n",
    "        image=tf_image,\n",
    "        pod_template_spec=json.dumps({\n",
    "            'spec': {\n",
    "                'containers': [{\n",
    "                    'env': [{\n",
    "                        'name': 'AWS_ACCESS_KEY_ID',\n",
    "                        'valueFrom': {\n",
    "                            'secretKeyRef': {\n",
    "                                'name': 'mlpipeline-minio-artifact',\n",
    "                                'key': 'accesskey'\n",
    "                            }\n",
    "                        }\n",
    "                    }, {\n",
    "                        'name': 'AWS_SECRET_ACCESS_KEY',\n",
    "                        'valueFrom': {\n",
    "                            'secretKeyRef': {\n",
    "                                'name': 'mlpipeline-minio-artifact',\n",
    "                                'key': 'secretkey'\n",
    "                            }\n",
    "                        }\n",
    "                    }, {\n",
    "                        'name': 'AWS_REGION',\n",
    "                        'value': 'minio'\n",
    "                    }, {\n",
    "                        'name': 'S3_ENDPOINT',\n",
    "                        'value': f'{minio_endpoint}',\n",
    "                    }, {\n",
    "                        'name': 'S3_USE_HTTPS',\n",
    "                        'value': '0',\n",
    "                    }, {\n",
    "                        'name': 'S3_VERIFY_SSL',\n",
    "                        'value': '0',\n",
    "                    }]\n",
    "                }],\n",
    "            },\n",
    "        })\n",
    "    ).set_display_name(\"Visualization\")\n",
    "    \n",
    "    prep_task=prep_op().after(prepare_tb_task).set_display_name(\"Preprocess & Transform\")\n",
    "    train_task=train_op(input_data=prep_task.outputs['output_data'], profiler=\"pytorch\").after(prep_task).set_display_name(\"Training\")\n",
    "    \n",
    "    minio_tb_upload = minio_op(bucket_name=\"mlpipeline\", folder_name=log_dir, input_path=train_task.outputs['tensorboard_root'], filename=\"\").after(train_task).set_display_name(\"Tensorboard Events Pusher\")\n",
    "    minio_mar_upload = minio_op(bucket_name=\"mlpipeline\", folder_name=mar_path, input_path=train_task.outputs['checkpoint_dir'], filename=\"bert_test.mar\").after(train_task).set_display_name(\"Mar Pusher\")\n",
    "    minio_config_upload = minio_op(bucket_name=\"mlpipeline\", folder_name=config_prop_path, input_path=train_task.outputs['checkpoint_dir'], filename=\"config.properties\").after(train_task).set_display_name(\"Conifg Pusher\")\n",
    "    \n",
    "    \n",
    "    model_uri= str(model_uri)\n",
    "    isvc_yaml = '''\n",
    "    apiVersion: \"serving.kubeflow.org/v1beta1\"\n",
    "    kind: \"InferenceService\"\n",
    "    metadata:\n",
    "      name: {}\n",
    "      namespace: {}\n",
    "    spec:\n",
    "      predictor:\n",
    "        serviceAccountName: sa\n",
    "        pytorch:\n",
    "          storageUri: {}\n",
    "          resources:\n",
    "            limits:\n",
    "              memory: 4Gi   \n",
    "    '''.format(DEPLOY, namespace, model_uri)\n",
    "    deploy_task = deploy_op(\n",
    "        action='apply',\n",
    "        inferenceservice_yaml=isvc_yaml\n",
    "    ).after(minio_mar_upload).set_display_name(\"Deployer\")\n",
    "    "
   ]
  },
  {
   "cell_type": "code",
   "execution_count": 9,
   "metadata": {},
   "outputs": [],
   "source": [
    "# Compile pipeline\n",
    "compiler.Compiler().compile(pytorch_bert, 'pytorch.tar.gz', type_check=True)"
   ]
  },
  {
   "cell_type": "code",
   "execution_count": 10,
   "metadata": {},
   "outputs": [
    {
     "data": {
      "text/html": [
       "<a href=\"http://istio-ingressgateway.istio-system.svc.cluster.local/pipeline/#/runs/details/f4c011dd-ba82-41f7-93e6-eff14bf3dc81\" target=\"_blank\" >Run details</a>."
      ],
      "text/plain": [
       "<IPython.core.display.HTML object>"
      ]
     },
     "metadata": {},
     "output_type": "display_data"
    }
   ],
   "source": [
    "# Execute pipeline\n",
    "run = client.run_pipeline(my_experiment.id, 'pytorch-bert', 'pytorch.tar.gz')"
   ]
  },
  {
   "cell_type": "markdown",
   "metadata": {},
   "source": [
    "### Wait for inference service below to go to `READY True` state."
   ]
  },
  {
   "cell_type": "code",
   "execution_count": 94,
   "metadata": {},
   "outputs": [
    {
     "name": "stdout",
     "output_type": "stream",
     "text": [
      "NAME        URL                                                      READY   PREV   LATEST   PREVROLLEDOUTREVISION   LATESTREADYREVISION                 AGE\n",
      "bertserve   http://bertserve.kubeflow-user-example-com.example.com   True           100                              bertserve-predictor-default-b82pm   22h\n"
     ]
    }
   ],
   "source": [
    "!kubectl get isvc $DEPLOY"
   ]
  },
  {
   "cell_type": "markdown",
   "metadata": {},
   "source": [
    "# Inference"
   ]
  },
  {
   "cell_type": "code",
   "execution_count": 80,
   "metadata": {},
   "outputs": [
    {
     "name": "stdout",
     "output_type": "stream",
     "text": [
      "bertserve.kubeflow-user-example-com.example.com\n"
     ]
    }
   ],
   "source": [
    "!kubectl get isvc $DEPLOY -o jsonpath='{.items[0].status.url}' | cut -d \"/\" -f 3"
   ]
  },
  {
   "cell_type": "code",
   "execution_count": 81,
   "metadata": {},
   "outputs": [
    {
     "data": {
      "text/plain": [
       "'bertserve.kubeflow-user-example-com.example.com'"
      ]
     },
     "execution_count": 81,
     "metadata": {},
     "output_type": "execute_result"
    }
   ],
   "source": [
    "S_HOSTNAME=!kubectl get isvc $DEPLOY  -o jsonpath='{.items[0].status.url}' | cut -d \"/\" -f 3\n",
    "SERVICE_HOSTNAME=S_HOSTNAME[0]\n",
    "SERVICE_HOSTNAME"
   ]
  },
  {
   "cell_type": "markdown",
   "metadata": {},
   "source": [
    "# Prediction"
   ]
  },
  {
   "cell_type": "code",
   "execution_count": 11,
   "metadata": {},
   "outputs": [
    {
     "name": "stdout",
     "output_type": "stream",
     "text": [
      "*   Trying 10.100.251.14:80...\n",
      "* TCP_NODELAY set\n",
      "* Connected to istio-ingressgateway.istio-system.svc.cluster.local (10.100.251.14) port 80 (#0)\n",
      "> POST /v1/models/bert:predict HTTP/1.1\n",
      "> Host: bertserve.kubeflow-user-example-com.example.com\n",
      "> User-Agent: curl/7.68.0\n",
      "> Accept: */*\n",
      "> Cookie: authservice_session=MTYyMDMxNjgzMHxOd3dBTkZSQldVcEZSVVJUTkRaWlZGWkVVRU5YUjFsTVRGRkZURU5hV1Znek5WUlVWVUUzV0RWRk5WWkdVbFpLTWtwVFJUWmFUMUU9fHBYwVCYxqRB5nYnc6qypZYmZBB63tgI6ul1IJGcuerh\n",
      "> Content-Length: 84\n",
      "> Content-Type: application/x-www-form-urlencoded\n",
      "> \n",
      "* upload completely sent off: 84 out of 84 bytes\n",
      "* Mark bundle as not supporting multiuse\n",
      "< HTTP/1.1 200 OK\n",
      "< content-length: 33\n",
      "< content-type: application/json; charset=UTF-8\n",
      "< date: Thu, 06 May 2021 17:59:42 GMT\n",
      "< server: istio-envoy\n",
      "< x-envoy-upstream-service-time: 291\n",
      "< \n",
      "* Connection #0 to host istio-ingressgateway.istio-system.svc.cluster.local left intact\n",
      "{\"predictions\": [\"\\\"Business\\\"\"]}"
     ]
    }
   ],
   "source": [
    "!curl -v -H \"Host: bertserve.kubeflow-user-example-com.example.com\" -H \"Cookie: authservice_session=MTYyMDMxNjgzMHxOd3dBTkZSQldVcEZSVVJUTkRaWlZGWkVVRU5YUjFsTVRGRkZURU5hV1Znek5WUlVWVUUzV0RWRk5WWkdVbFpLTWtwVFJUWmFUMUU9fHBYwVCYxqRB5nYnc6qypZYmZBB63tgI6ul1IJGcuerh\" \"http://istio-ingressgateway.istio-system.svc.cluster.local/v1/models/bert:predict\" -d @./examples/bert/sample.txt"
   ]
  },
  {
   "cell_type": "code",
   "execution_count": 12,
   "metadata": {},
   "outputs": [
    {
     "name": "stdout",
     "output_type": "stream",
     "text": [
      "*   Trying 10.100.251.14:80...\n",
      "* TCP_NODELAY set\n",
      "* Connected to istio-ingressgateway.istio-system.svc.cluster.local (10.100.251.14) port 80 (#0)\n",
      "> POST /v1/models/bert:explain HTTP/1.1\n",
      "> Host: bertserve.kubeflow-user-example-com.example.com\n",
      "> User-Agent: curl/7.68.0\n",
      "> Accept: */*\n",
      "> Cookie: authservice_session=MTYyMDMxNjgzMHxOd3dBTkZSQldVcEZSVVJUTkRaWlZGWkVVRU5YUjFsTVRGRkZURU5hV1Znek5WUlVWVUUzV0RWRk5WWkdVbFpLTWtwVFJUWmFUMUU9fHBYwVCYxqRB5nYnc6qypZYmZBB63tgI6ul1IJGcuerh\n",
      "> Content-Length: 84\n",
      "> Content-Type: application/x-www-form-urlencoded\n",
      "> \n",
      "* upload completely sent off: 84 out of 84 bytes\n",
      "* Mark bundle as not supporting multiuse\n",
      "< HTTP/1.1 200 OK\n",
      "< content-length: 322\n",
      "< content-type: application/json; charset=UTF-8\n",
      "< date: Thu, 06 May 2021 17:59:57 GMT\n",
      "< server: istio-envoy\n",
      "< x-envoy-upstream-service-time: 16371\n",
      "< \n",
      "* Connection #0 to host istio-ingressgateway.istio-system.svc.cluster.local left intact\n",
      "{\"explanations\": [{\"words\": [\"[CLS]\", \"bloomberg\", \"has\", \"reported\", \"on\", \"the\", \"economy\", \"[SEP]\"], \"importances\": [0.4585271681389997, -0.028911404190425122, -0.2636049438537229, -0.18622736980724433, -0.1830842545173807, -0.11870942512425295, -0.15797154675693198, 0.7824205938281698], \"delta\": 0.7936810480247101}]}"
     ]
    }
   ],
   "source": [
    "!curl -v -H \"Host: bertserve.kubeflow-user-example-com.example.com\" -H \"Cookie: authservice_session=MTYyMDMxNjgzMHxOd3dBTkZSQldVcEZSVVJUTkRaWlZGWkVVRU5YUjFsTVRGRkZURU5hV1Znek5WUlVWVUUzV0RWRk5WWkdVbFpLTWtwVFJUWmFUMUU9fHBYwVCYxqRB5nYnc6qypZYmZBB63tgI6ul1IJGcuerh\" \"http://istio-ingressgateway.istio-system.svc.cluster.local/v1/models/bert:explain\" -d @./examples/bert/sample.txt"
   ]
  },
  {
   "cell_type": "code",
   "execution_count": null,
   "metadata": {},
   "outputs": [],
   "source": []
  }
 ],
 "metadata": {
  "kernelspec": {
   "display_name": "Python 3",
   "language": "python",
   "name": "python3"
  },
  "language_info": {
   "codemirror_mode": {
    "name": "ipython",
    "version": 3
   },
   "file_extension": ".py",
   "mimetype": "text/x-python",
   "name": "python",
   "nbconvert_exporter": "python",
   "pygments_lexer": "ipython3",
   "version": "3.8.2"
  }
 },
 "nbformat": 4,
 "nbformat_minor": 4
}
